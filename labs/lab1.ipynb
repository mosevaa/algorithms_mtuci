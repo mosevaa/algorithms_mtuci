{
 "cells": [
  {
   "cell_type": "markdown",
   "metadata": {},
   "source": [
    "# Лабораторная работа №1 \n"
   ]
  },
  {
   "cell_type": "markdown",
   "metadata": {},
   "source": [
    "Выполнила студентка БВТ2002 Мосева Алеся"
   ]
  },
  {
   "cell_type": "markdown",
   "metadata": {},
   "source": [
    "**Цель работы:** реализовать заданные методы сортировки строк числовой матрицы. Оценить время работы каждого алгоритма сортировки и сравнить его со временем стандартной функции сортировки, используемой в выбранном языке программирования."
   ]
  },
  {
   "cell_type": "markdown",
   "metadata": {},
   "source": [
    "## Задание 1\n"
   ]
  },
  {
   "cell_type": "code",
   "execution_count": 1,
   "metadata": {},
   "outputs": [
    {
     "name": "stdout",
     "output_type": "stream",
     "text": [
      "Hello, World!\n"
     ]
    }
   ],
   "source": [
    "print (\"Hello, World!\")"
   ]
  },
  {
   "cell_type": "markdown",
   "metadata": {},
   "source": [
    "## Задание 2\n"
   ]
  },
  {
   "cell_type": "markdown",
   "metadata": {},
   "source": [
    "Написать генератор случайных матриц(многомерных), который принимает\n",
    "опциональные параметры m, n, min_limit, max_limit, где m и n указывают размер\n",
    "матрицы, а min_lim и max_lim - минимальное и максимальное значение для\n",
    "генерируемого числа . По умолчанию при отсутствии параметров принимать следующие\n",
    "значения:\n",
    "m = 50\n",
    "n = 50\n",
    "min_limit = -250\n",
    "max_limit = 1000 + (номер своего варианта)"
   ]
  },
  {
   "cell_type": "code",
   "execution_count": 2,
   "metadata": {},
   "outputs": [],
   "source": [
    "import random"
   ]
  },
  {
   "cell_type": "code",
   "execution_count": 3,
   "metadata": {},
   "outputs": [],
   "source": [
    "def generate_matrix (m=50, n=50, min_limit=-250, max_limit=1018):\n",
    "    matrix=[]\n",
    "    for i in range(m):\n",
    "        matrix.append([])\n",
    "        for j in range(m):\n",
    "            matrix[i].append(random.randint(min_limit, max_limit+1))\n",
    "    return matrix\n",
    "        "
   ]
  },
  {
   "cell_type": "code",
   "execution_count": 4,
   "metadata": {},
   "outputs": [
    {
     "data": {
      "text/plain": [
       "[[13, -1, 0, 11, 16, 1, 4, -4, -13, 3],\n",
       " [15, -8, -9, 8, -1, 10, 13, 16, 14, -12],\n",
       " [7, -11, 6, 4, 8, 6, -9, -6, 14, 14],\n",
       " [14, 14, 16, -3, 5, 16, -3, 14, 2, -9],\n",
       " [16, 12, -4, 12, -12, 6, 1, -4, -12, -12],\n",
       " [2, 7, 0, -4, 14, 14, 14, -13, -7, 14],\n",
       " [2, 5, 7, 0, -10, -12, 15, 0, -6, 11],\n",
       " [5, -5, -5, -1, -14, -14, -7, 6, 1, 2],\n",
       " [15, -12, 12, 8, -4, -4, 5, 6, 5, 11],\n",
       " [-8, 5, -2, -5, 14, -6, -10, -10, -11, -9]]"
      ]
     },
     "execution_count": 4,
     "metadata": {},
     "output_type": "execute_result"
    }
   ],
   "source": [
    "generate_matrix(10, 10, -15, 15)"
   ]
  },
  {
   "cell_type": "markdown",
   "metadata": {},
   "source": [
    "## Задание 3\n"
   ]
  },
  {
   "cell_type": "markdown",
   "metadata": {},
   "source": [
    "Реализовать методы сортировки строк числовой матрицы в соответствии с заданием. Оценить время работы каждого алгоритма сортировки и сравнить его со временем стандартной функции сортировки. Испытания проводить на сгенерированных матрицах. Методы: \n",
    "\n",
    "1) выбором   \n",
    "\n",
    "2) вставкой   \n",
    "\n",
    "3) обменом   \n",
    "\n",
    "4) Шелла   \n",
    "\n",
    "5) турнирная   \n",
    "\n",
    "6) быстрая сортировка   \n",
    "\n",
    "7) пирамидальная"
   ]
  },
  {
   "cell_type": "code",
   "execution_count": 5,
   "metadata": {},
   "outputs": [],
   "source": [
    "import time\n",
    "import copy\n",
    "matrix = generate_matrix(10, 10, -15, 15)"
   ]
  },
  {
   "cell_type": "markdown",
   "metadata": {},
   "source": [
    "#### Стандартная функция сортировки"
   ]
  },
  {
   "cell_type": "code",
   "execution_count": 6,
   "metadata": {},
   "outputs": [
    {
     "name": "stdout",
     "output_type": "stream",
     "text": [
      "time:  0.0001697540283203125\n"
     ]
    }
   ],
   "source": [
    "arr = copy.deepcopy(matrix)\n",
    "start_time = time.time()\n",
    "for i in range(len(arr)):\n",
    "    arr[i] = sorted(arr[i])\n",
    "print('time: ', (time.time()-start_time))\n",
    "#print('Исходный массив:')\n",
    "#print(matrix)\n",
    "#print('Результат сортировки:')\n",
    "#print(arr)\n",
    "    "
   ]
  },
  {
   "cell_type": "markdown",
   "metadata": {},
   "source": [
    "#### Сортировка выбором\n",
    "\n",
    "Проходим по массиву в поисках максимального элемента. Найденный максимум меняем местами с последним элементом. Неотсортированная часть массива уменьшилась на один элемент (не включает последний элемент, куда мы переставили найденный максимум). К этой неотсортированной части применяем те же действия — находим максимум и ставим его на последнее место в неотсортированной части массива. И так продолжаем до тех пор, пока неотсортированная часть массива не уменьшится до одного элемента.\n",
    "\n",
    "Сложность: O(n^2)"
   ]
  },
  {
   "cell_type": "code",
   "execution_count": 8,
   "metadata": {},
   "outputs": [
    {
     "name": "stdout",
     "output_type": "stream",
     "text": [
      "time:  0.0007040500640869141\n"
     ]
    }
   ],
   "source": [
    "arr = copy.deepcopy(matrix)\n",
    "start_time = time.time()\n",
    "for i in range(len(arr)):\n",
    "    j = 0\n",
    "    while j < len(arr[i]) - 1:\n",
    "        m = j\n",
    "        k = j + 1\n",
    "        while k < len(arr[i]):\n",
    "            if arr[i][k] < arr[i][m]:\n",
    "                m = k\n",
    "            k += 1\n",
    "        arr[i][j], arr[i][m] = arr[i][m], arr[i][j]\n",
    "        j += 1\n",
    "print(\"time: \", time.time() - start_time)\n",
    "#print('Исходный массив:')\n",
    "#print(matrix)\n",
    "#print('Результат:')\n",
    "#print(arr)\n"
   ]
  },
  {
   "cell_type": "markdown",
   "metadata": {},
   "source": [
    "#### Сортировка вставкой\n",
    "\n",
    "Проходим по массиву слева направо и обрабатываем по очереди каждый элемент. Слева от очередного элемента наращиваем отсортированную часть массива, справа по мере процесса потихоньку испаряется неотсортированная. В отсортированной части массива ищется точка вставки для очередного элемента. Сам элемент отправляется в буфер, в результате чего в массиве появляется свободная ячейка — это позволяет сдвинуть элементы и освободить точку вставки.\n",
    "\n",
    "Сложность: O(n^2)"
   ]
  },
  {
   "cell_type": "code",
   "execution_count": 9,
   "metadata": {},
   "outputs": [
    {
     "name": "stdout",
     "output_type": "stream",
     "text": [
      "time:  0.0004889965057373047\n"
     ]
    }
   ],
   "source": [
    "arr = copy.deepcopy(matrix)\n",
    "start_time = time.time()\n",
    "for i in range (len(arr[i])):\n",
    "    for j in range(1,len(arr[i])):\n",
    "        k = i - 1\n",
    "        val = arr[j]\n",
    "        while arr[k] > val:\n",
    "            arr[k + 1] = arr[k]\n",
    "            k = k - 1\n",
    "        arr[k + 1] = val\n",
    "print('time: ', time.time()-start_time)\n",
    "#print('Исходный массив:')\n",
    "#print(matrix)\n",
    "#print('Результат:')\n",
    "#print(arr)"
   ]
  },
  {
   "cell_type": "markdown",
   "metadata": {},
   "source": [
    "#### Сортировка обменом(сортировка пузырьком)\n",
    "\n",
    "Сортировка пузырьком - это метод сортировки массивов и списков путем последовательного сравнения и обмена соседних элементов, если предшествующий оказывается больше последующего.\n",
    "\n",
    "Сложность: O(n^2)\n"
   ]
  },
  {
   "cell_type": "code",
   "execution_count": 10,
   "metadata": {},
   "outputs": [
    {
     "name": "stdout",
     "output_type": "stream",
     "text": [
      "time:  0.0006849765777587891\n"
     ]
    }
   ],
   "source": [
    "arr = copy.deepcopy(matrix)\n",
    "start_time = time.time()\n",
    "for i in range(len(arr)):\n",
    "    changed = True\n",
    "    while changed:\n",
    "        changed = False\n",
    "        for j in range(len(arr[i])-1):\n",
    "            if arr[i][j] > arr[i][j+1]:\n",
    "                arr[i][j], arr[i][j+1] = arr[i][j+1], arr[i][j]\n",
    "                changed = True\n",
    "print('time: ', time.time() - start_time)\n",
    "#print('Исходный массив:')\n",
    "#print(matrix)\n",
    "#print('Результат:')\n",
    "#print(arr)\n"
   ]
  },
  {
   "cell_type": "markdown",
   "metadata": {},
   "source": [
    "#### Сортировка Шелла\n",
    "\n",
    "Идея метода заключается в сравнение разделенных на группы элементов последовательности, находящихся друг от друга на некотором расстоянии. Изначально это расстояние равно d или N/2, где N — общее число элементов. На первом шаге каждая группа включает в себя два элемента расположенных друг от друга на расстоянии N/2; они сравниваются между собой, и, в случае необходимости, меняются местами. На последующих шагах также происходят проверка и обмен, но расстояние d сокращается на d/2, и количество групп, соответственно, уменьшается. Постепенно расстояние между элементами уменьшается, и на d=1 проход по массиву происходит в последний раз.\n",
    "\n",
    "Сложность: от O(n log^2 n) до O(n^2)\n"
   ]
  },
  {
   "cell_type": "code",
   "execution_count": 11,
   "metadata": {},
   "outputs": [
    {
     "name": "stdout",
     "output_type": "stream",
     "text": [
      "time:  0.0005271434783935547\n"
     ]
    }
   ],
   "source": [
    "arr = copy.deepcopy(matrix)\n",
    "start_time = time.time()\n",
    "for i in range(len(arr)):\n",
    "    d = len(arr[i]) // 2\n",
    "    while d > 0:\n",
    "        for j in range(0, len(arr[i])-d):\n",
    "            k = j\n",
    "            while k >= 0:\n",
    "                if arr[i][k] > arr[i][k+d]:\n",
    "                    arr[i][k], arr[i][k+d] = arr[i][k+d], arr[i][k]\n",
    "                k = k - 1\n",
    "        d = d // 2\n",
    "print('time: ', time.time() - start_time)\n",
    "#print('Исходный массив:')\n",
    "#print(matrix)\n",
    "#print('Результат:')\n",
    "#print(arr)\n"
   ]
  },
  {
   "cell_type": "markdown",
   "metadata": {},
   "source": [
    "#### Турнирная сортировка\n",
    "\n",
    "Основная идея Tournament sort заключается в использовании относительно небольшой (по сравнению с основным массивом) вспомогательной кучи, которая выполняет роль приоритетной очереди. В этой куче сравниваются элементы на нижних уровнях, в результате чего меньшие элементы (в данном случае дерево у нас MIN-HEAP) поднимаются наверх, а в корень всплывает текущий минимум из той порции элементов массива, которые попали в эту кучу. Минимум переносится в дополнительный массив «победителей», в результате чего в куче происходит сравнение/перемещение оставшихся элементов — и вот уже в корне дерева новый минимум. Отметим, что при такой системе очередной минимум по значению больше чем предыдущий — тогда легко собирается новый упорядоченный массив «победителей», где новые минимумы просто добавляются в конец дополнительного массива.\n",
    "\n",
    "Сложность: O(nlog^2n)"
   ]
  },
  {
   "cell_type": "code",
   "execution_count": 13,
   "metadata": {},
   "outputs": [
    {
     "name": "stdout",
     "output_type": "stream",
     "text": [
      "time:  0.0012369155883789062\n"
     ]
    }
   ],
   "source": [
    "start_time = time.time()\n",
    "\n",
    "arr = copy.deepcopy(matrix)\n",
    "\n",
    "def tour(ar):\n",
    "    while len(ar) > 1:\n",
    "        win_nums = []\n",
    "        if len(ar) % 2 != 0:\n",
    "            ar.append(max(ar)+1)\n",
    "        for i in range(0, len(ar), 2):\n",
    "            if ar[i] > ar[i+1]:\n",
    "                win_nums.append(ar[i+1])\n",
    "            else:\n",
    "                win_nums.append(ar[i])\n",
    "        ar = copy.copy(win_nums)\n",
    "    return ar\n",
    "\n",
    "def toursort(ar):\n",
    "    sorted_arr = []\n",
    "    while (len(ar) > 0):\n",
    "        winner = tour(copy.copy(ar))[0]\n",
    "        #print(\"{0} - removing {1}\".format(ar, winner))\n",
    "        ar.remove(winner)\n",
    "        sorted_arr.append(winner)\n",
    "    return sorted_arr\n",
    "    \n",
    "for i in range(len(arr)):\n",
    "    arr[i] = toursort(arr[i])\n",
    "    \n",
    "print('time: ', time.time() - start_time)\n",
    "#print('Исходный массив:')\n",
    "#print(matrix)\n",
    "#print('Результат:')\n",
    "#print(arr)\n"
   ]
  },
  {
   "cell_type": "markdown",
   "metadata": {},
   "source": [
    "#### Быстрая сортировка(сортировка Хоара)\n",
    "\n",
    "Выбирается так называемый опорный элемент, и массив делится на 3 подмассива: меньших опорного, равных опорному и больших опорного. Потом этот алгоритм применяется рекурсивно к подмассивам. \n",
    "\n",
    "Сложность алгоритма зависит от входных данных и в лучшем случае будет равняться O(n×2log2n). В худшем случае O(n^2). Существует также среднее значение, это O(n×log2n)."
   ]
  },
  {
   "cell_type": "code",
   "execution_count": 15,
   "metadata": {},
   "outputs": [
    {
     "name": "stdout",
     "output_type": "stream",
     "text": [
      "time:  0.0006949901580810547\n"
     ]
    }
   ],
   "source": [
    "start_time = time.time()\n",
    "\n",
    "arr = copy.deepcopy(matrix)\n",
    "\n",
    "def quick_sort(ar):\n",
    "    if len(ar) <= 1:\n",
    "        return ar\n",
    "    else:\n",
    "        piv = random.choice(ar)\n",
    "    l = []\n",
    "    r = []\n",
    "    e = []\n",
    "    for n in ar:\n",
    "        if n > piv:\n",
    "            r.append(n)\n",
    "        if n < piv:\n",
    "            l.append(n)\n",
    "        if n == piv:\n",
    "            e.append(n)\n",
    "    return quick_sort(l) + e + quick_sort(r)\n",
    "            \n",
    "for i in range(len(arr)):\n",
    "    arr[i] = quick_sort(arr[i])\n",
    "\n",
    "print('time: ', time.time() - start_time)\n",
    "#print('Исходный массив:')\n",
    "#print(matrix)\n",
    "#print('Результат:')\n",
    "#print(arr)"
   ]
  },
  {
   "cell_type": "markdown",
   "metadata": {},
   "source": [
    "#### Пирамидальная сортировка\n",
    "\n",
    "Метод сортировки сравнением, основанный на такой структуре данных как двоичная куча. Она похожа на сортировку выбором, где мы сначала ищем максимальный элемент и помещаем его в конец. Далее мы повторяем ту же операцию для оставшихся элементов.\n",
    "\n",
    "Общее время работы этого алгоритма составляет O(n log n)\n",
    "\n"
   ]
  },
  {
   "cell_type": "code",
   "execution_count": 18,
   "metadata": {},
   "outputs": [
    {
     "name": "stdout",
     "output_type": "stream",
     "text": [
      "time:  0.0010449886322021484\n"
     ]
    }
   ],
   "source": [
    "start_time = time.time()\n",
    "\n",
    "arr = copy.deepcopy(matrix)\n",
    "\n",
    "def heapify(heap_array, n, k):\n",
    "    largest = k\n",
    "    left = 2 * k + 1\n",
    "    right = 2 * k + 2\n",
    "    if left < n and heap_array[largest] < heap_array[left]:\n",
    "        largest = left\n",
    "    if right < n and heap_array[largest] < heap_array[right]:\n",
    "        largest = right\n",
    "    if largest != k:\n",
    "        heap_array[k], heap_array[largest] = heap_array[largest], heap_array[k]\n",
    "        heapify(heap_array, n, largest)\n",
    "    return heap_array\n",
    "\n",
    "def heap(str_array):\n",
    "    for i in range(len(str_array), -1, -1):\n",
    "        heapify(str_array, len(str_array), i)\n",
    "    for i in range(len(str_array) - 1, 0, -1):\n",
    "        str_array[i], str_array[0] = str_array[0], str_array[i]\n",
    "        heapify(str_array, i, 0)\n",
    "    return str_array\n",
    "\n",
    "\n",
    "for i in range(len(arr)):\n",
    "    arr[i] = heap(arr[i])\n",
    "\n",
    "print('time: ', time.time() - start_time)\n",
    "#print('Исходный массив:')\n",
    "#print(matrix)\n",
    "#print('Результат:')\n",
    "#print(arr)\n"
   ]
  },
  {
   "cell_type": "markdown",
   "metadata": {},
   "source": [
    "## Вывод\n",
    "\n",
    "Таким образом, мы рассмотрели алгоримы сортировок и установили, что они выполняются за следующее время:\n",
    "\n",
    "1) стандартная сортировка: 0,0002 s\n",
    "\n",
    "2) сортировка выбором: 0,0007 s\n",
    "\n",
    "3) сортировка вставкой: 0,0005 s\n",
    "\n",
    "4) сортировка обменом (пузырьком): 0,0007s\n",
    "\n",
    "5) сортировка Шелла: 0,0005s\n",
    "\n",
    "6) турнирная сортировка: 0,0012s\n",
    "\n",
    "7) быстрая сортировка: 0,00069s\n",
    "\n",
    "8) пирамидальная сортировка: 0,001s"
   ]
  }
 ],
 "metadata": {
  "interpreter": {
   "hash": "aee8b7b246df8f9039afb4144a1f6fd8d2ca17a180786b69acc140d282b71a49"
  },
  "kernelspec": {
   "display_name": "Python 3.8.6 64-bit",
   "language": "python",
   "name": "python3"
  },
  "language_info": {
   "codemirror_mode": {
    "name": "ipython",
    "version": 3
   },
   "file_extension": ".py",
   "mimetype": "text/x-python",
   "name": "python",
   "nbconvert_exporter": "python",
   "pygments_lexer": "ipython3",
   "version": "3.8.6"
  },
  "orig_nbformat": 4
 },
 "nbformat": 4,
 "nbformat_minor": 2
}
