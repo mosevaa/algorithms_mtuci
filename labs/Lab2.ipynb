{
 "cells": [
  {
   "cell_type": "markdown",
   "id": "fifteen-sailing",
   "metadata": {},
   "source": [
    "# Лабораторная работа №2\n",
    "## Выполнил студент группы БВТ2002 Мосева Алеся"
   ]
  },
  {
   "cell_type": "markdown",
   "id": "particular-syndicate",
   "metadata": {},
   "source": [
    "### Оглавление\n",
    "1. [Задание 1](#Задание-№1)\n",
    "2. [Задание 2](#Задание-№2)\n",
    "3. [Задание 3](#Задание-№3)"
   ]
  },
  {
   "cell_type": "code",
   "execution_count": 14,
   "id": "51a9df05",
   "metadata": {},
   "outputs": [],
   "source": [
    "import random\n",
    "import time\n",
    "import copy\n"
   ]
  },
  {
   "cell_type": "code",
   "execution_count": 15,
   "id": "98c33405",
   "metadata": {},
   "outputs": [],
   "source": [
    "matrix = []\n",
    "for i in range(100000):\n",
    "    matrix.append(random.randint(-16000, 16000))\n",
    "searching_value = random.choice(matrix) "
   ]
  },
  {
   "cell_type": "markdown",
   "id": "arctic-stocks",
   "metadata": {},
   "source": [
    "### Задание №1\n",
    "Реализовать методы поиска в соответствии с заданием. Организовать генерацию начального набора случайных данных. Для всех вариантов добавить реализацию добавления, поиска и удаления элементов. Оценить время работы каждого алгоритма поиска и сравнить его со временем работы стандартной функции поиска, используемой в выбранном языке программирования."
   ]
  },
  {
   "cell_type": "code",
   "execution_count": 16,
   "id": "caring-truck",
   "metadata": {
    "scrolled": true
   },
   "outputs": [],
   "source": [
    "#Бинарный поиск\n",
    "arr = copy.deepcopy(matrix)\n",
    "def binary_searching (arr, searching_value):\n",
    "    left = 0\n",
    "    right = len(arr) - 1\n",
    "    mid = (left + right) // 2\n",
    "    while arr[mid] != searching_value and left <= right:\n",
    "        if searching_value > arr[mid]:\n",
    "            left = mid + 1\n",
    "        else:\n",
    "            right = mid - 1\n",
    "        mid = (left + right) // 2\n",
    "    if left > right:\n",
    "        return -1\n",
    "    else:\n",
    "        return mid\n",
    "\n",
    "    \n",
    "#print(binary_searching(arr, searching_value))"
   ]
  },
  {
   "cell_type": "code",
   "execution_count": 17,
   "id": "75af3ea8",
   "metadata": {},
   "outputs": [],
   "source": [
    "#Бинарное дерево\n",
    "class Node:\n",
    "    def __init__(self, data):\n",
    "        self.left = None\n",
    "        self.right = None\n",
    "        self.data = data\n",
    "\n",
    "    def insert(self, data):\n",
    "        if self.data:\n",
    "            if data < self.data:\n",
    "                if self.left is None:\n",
    "                    self.left = Node(data)\n",
    "                else:\n",
    "                    self.left.insert(data)\n",
    "            elif data > self.data:\n",
    "                if self.right is None:\n",
    "                    self.right = Node(data)\n",
    "                else:\n",
    "                    self.right.insert(data)\n",
    "        else:\n",
    "            self.data = data\n",
    "\n",
    "    def delete(self, value):\n",
    "        if value < self.data:\n",
    "            if self.left is None:\n",
    "                return str(value) + \" Not Found\"\n",
    "            return self.left.delete(value)\n",
    "        elif value > self.data:\n",
    "            if self.right is None:\n",
    "                return str(value) + \" Not Found\"\n",
    "            return self.right.delete(value)\n",
    "        else:\n",
    "            if self.left is None and self.right is None:\n",
    "                self.data = None\n",
    "            elif self.left is None:\n",
    "                self.data = self.right.left_del(value)\n",
    "            else:\n",
    "                self.data = self.left.right_del(value)\n",
    "\n",
    "    def left_del(self, data):\n",
    "        if self.left is None:\n",
    "            k = self.data\n",
    "            self.data = None\n",
    "            return k\n",
    "        else:\n",
    "            return self.left.left_del(data)\n",
    "\n",
    "    def right_del(self, data):\n",
    "        if self.right is None:\n",
    "            k = self.data\n",
    "            self.data = None\n",
    "            return k\n",
    "        else:\n",
    "            return self.right.right_del(data)\n",
    "\n",
    "    def find(self, value):\n",
    "        if value < self.data:\n",
    "            if self.left is None:\n",
    "                return str(value) + \" Not Found\"\n",
    "            return self.left.find(value)\n",
    "        elif value > self.data:\n",
    "            if self.right is None:\n",
    "                return str(value) + \" Not Found\"\n",
    "            return self.right.find(value)\n",
    "        else:\n",
    "            return(str(self.data) + ' is found')\n",
    "\n",
    "\n"
   ]
  },
  {
   "cell_type": "code",
   "execution_count": 18,
   "id": "abe4b0b4",
   "metadata": {},
   "outputs": [],
   "source": [
    "#Метод Фибоначчи\n",
    "def fib_searching(array, value):\n",
    "    f0, f1, fm = find_fib_number(len(array))\n",
    "    index = -1\n",
    "    while fm > 1:\n",
    "        i = min(f0 + index, len(array)-1)\n",
    "        if (array[i] < value):\n",
    "            fm = f1\n",
    "            f1 = f0\n",
    "            f0 = fm - f1\n",
    "            index = i\n",
    "        elif (array[i] > value):\n",
    "            fm = f0\n",
    "            f1 = f1 - f0\n",
    "            f0 = fm - f1\n",
    "        else:\n",
    "            return i\n",
    "\n",
    "\n",
    "\n",
    "def find_fib_number(lenght):\n",
    "    f_first = 0\n",
    "    f_second = 1\n",
    "    f_third = f_first + f_second\n",
    "    while f_third < lenght:\n",
    "        f_first = f_second\n",
    "        f_second = f_third\n",
    "        f_third = f_first + f_second\n",
    "    return f_first, f_second, f_third\n",
    "\n"
   ]
  },
  {
   "cell_type": "code",
   "execution_count": 19,
   "id": "f3c360a9",
   "metadata": {},
   "outputs": [],
   "source": [
    "#интерполяционный\n",
    "def int_searhing(lys, val):\n",
    "    low = 0\n",
    "    high = (len(lys) - 1)\n",
    "    while low <= high and val >= lys[low] and val <= lys[high]:\n",
    "        index = low + int(((float(high - low) / ( lys[high] - lys[low])) * ( val - lys[low])))\n",
    "        if lys[index] == val:\n",
    "            return index\n",
    "        if lys[index] < val:\n",
    "            low = index + 1\n",
    "        else:\n",
    "            high = index - 1\n",
    "    return -1"
   ]
  },
  {
   "cell_type": "markdown",
   "id": "682387bc",
   "metadata": {},
   "source": [
    "##### Время поиска элементов"
   ]
  },
  {
   "cell_type": "markdown",
   "id": "83739a83",
   "metadata": {},
   "source": [
    "Бинарный поиск"
   ]
  },
  {
   "cell_type": "code",
   "execution_count": 20,
   "id": "5772da44",
   "metadata": {},
   "outputs": [
    {
     "name": "stdout",
     "output_type": "stream",
     "text": [
      "24274\n",
      "Время для бинарного поиска: 0 0.0009996891021728516\n"
     ]
    }
   ],
   "source": [
    "arr = copy.deepcopy(matrix)\n",
    "arr.sort()\n",
    "start_time = time.time()\n",
    "print(binary_searching(arr, searching_value))\n",
    "print(f'Время для бинарного поиска: {0}', (time.time() - start_time))"
   ]
  },
  {
   "cell_type": "markdown",
   "id": "52b0fc39",
   "metadata": {},
   "source": [
    "Бинарное дерево"
   ]
  },
  {
   "cell_type": "code",
   "execution_count": 22,
   "id": "018846ac",
   "metadata": {},
   "outputs": [
    {
     "name": "stdout",
     "output_type": "stream",
     "text": [
      "-8268 is found\n",
      "Время для поиска по бинарному дереву: 0.0010001659393310547\n"
     ]
    }
   ],
   "source": [
    "arr = copy.deepcopy(matrix)\n",
    "root = Node(arr[0])\n",
    "for i in range(1, len(arr)):\n",
    "    root.insert(arr[i])\n",
    "start_time = time.time()\n",
    "print(root.find(searching_value))\n",
    "print(f'Время для поиска по бинарному дереву:', (time.time() - start_time))"
   ]
  },
  {
   "cell_type": "markdown",
   "id": "45d7be88",
   "metadata": {},
   "source": [
    "Поиск с помощью чисел Фибоначчи"
   ]
  },
  {
   "cell_type": "code",
   "execution_count": 23,
   "id": "737b8f51",
   "metadata": {},
   "outputs": [
    {
     "name": "stdout",
     "output_type": "stream",
     "text": [
      "24273\n",
      "Время для поиска с помощью чисел Фибоначчи: 0 0.0009951591491699219\n"
     ]
    }
   ],
   "source": [
    "arr = copy.deepcopy(matrix)\n",
    "arr.sort()\n",
    "start_time = time.time()\n",
    "print(fib_searching(arr, searching_value))\n",
    "print(f'Время для поиска с помощью чисел Фибоначчи: {0}', (time.time() - start_time))"
   ]
  },
  {
   "cell_type": "markdown",
   "id": "1c494c38",
   "metadata": {},
   "source": [
    "Интерполяционный поиск"
   ]
  },
  {
   "cell_type": "code",
   "execution_count": 24,
   "id": "cb7a4952",
   "metadata": {},
   "outputs": [
    {
     "name": "stdout",
     "output_type": "stream",
     "text": [
      "24273\n",
      "Время для интерполяционного поиска: 0 0.001001119613647461\n"
     ]
    }
   ],
   "source": [
    "arr = copy.deepcopy(matrix)\n",
    "arr.sort()\n",
    "start_time = time.time()\n",
    "print(int_searhing(arr, searching_value))\n",
    "print(f'Время для интерполяционного поиска: {0}', (time.time() - start_time))"
   ]
  },
  {
   "cell_type": "markdown",
   "id": "eb907ccc",
   "metadata": {},
   "source": [
    "Стандартный поиск"
   ]
  },
  {
   "cell_type": "code",
   "execution_count": 25,
   "id": "6f8df70d",
   "metadata": {},
   "outputs": [
    {
     "name": "stdout",
     "output_type": "stream",
     "text": [
      "True\n",
      "Время для стандартного поиска: 0 0.0029947757720947266\n"
     ]
    }
   ],
   "source": [
    "arr = copy.deepcopy(matrix)\n",
    "arr.sort()\n",
    "start_time = time.time()\n",
    "print(searching_value in arr)\n",
    "print(f'Время для стандартного поиска: {0}', (time.time() - start_time))"
   ]
  },
  {
   "cell_type": "markdown",
   "id": "maritime-conversation",
   "metadata": {},
   "source": [
    "### Задание №2\n",
    "Написать соответствующие решения для заданных методов."
   ]
  },
  {
   "cell_type": "code",
   "execution_count": 26,
   "id": "97f9de37",
   "metadata": {},
   "outputs": [],
   "source": [
    "#Простое рехэширование\n",
    "class SimpleRehash():\n",
    "    def __init__(self, data):\n",
    "        self.data = data\n",
    "        self.array = [None] * len(self.data)\n",
    "        self.size = len(self.data)\n",
    "    \n",
    "    def hash(self, value):\n",
    "        s = 0\n",
    "        s = s +value\n",
    "        return s % self.size\n",
    "\n",
    "    def _rehash(self, pos, i):\n",
    "        return (pos + i) % self.size\n",
    "    \n",
    "    def rehash(self):\n",
    "        for number in range(self.size):\n",
    "            i = 0\n",
    "            if self.array[self.hash(self.data[number])] == None:\n",
    "                self.array[self.hash(self.data[number])] = self.data[number]\n",
    "            else:\n",
    "                while self.array[self._rehash(self.hash(self.data[number]), i)] != None:\n",
    "                    i += 1\n",
    "                self.array[self._rehash(self.hash(self.data[number]), i)] = self.data[number]\n",
    "    \n",
    "    def _search(self, value):\n",
    "        return self.array.index(value)\n",
    "    \n",
    "    def search(self, value):\n",
    "        if value in self.array:\n",
    "            return self._search(value)\n",
    "        else:\n",
    "            return \"{value} didn't hash\"\n",
    "    \n",
    "    def _delete(self, number):\n",
    "        self.size -= 1\n",
    "        self.data.pop(number)\n",
    "        self.array = [None] * self.size\n",
    "        self.rehash()\n",
    "\n",
    "    def delete(self, number):\n",
    "        ind = self.search(number)\n",
    "        if type(ind) == int:\n",
    "            self._delete(ind)\n",
    "    \n",
    "    def add(self, value):\n",
    "        self.size += 1\n",
    "        self.data.append(value)\n",
    "        self.array = [None] * self.size\n",
    "        self.rehash()\n",
    "\n",
    "    \n",
    "\n",
    "\n",
    "    \n"
   ]
  },
  {
   "cell_type": "code",
   "execution_count": 27,
   "id": "b4b80e3a",
   "metadata": {},
   "outputs": [],
   "source": [
    "#Рехэширование с помощью псевдослучайных чисел\n",
    "class RandRehash(SimpleRehash):\n",
    "    def rehash(self):\n",
    "        for number in range(self.size):\n",
    "            i = 0\n",
    "            if self.array[self.hash(self.data[number])] == None:\n",
    "                self.array[self.hash(self.data[number])] = self.data[number]\n",
    "            else:\n",
    "                while self.array[self._rehash(self.hash(self.data[number]), i)] != None:\n",
    "                    i = random.randint(1, self.size)\n",
    "                self.array[self._rehash(self.hash(self.data[number]), i)] = self.data[number]\n",
    "\n"
   ]
  },
  {
   "cell_type": "code",
   "execution_count": 28,
   "id": "1addc092",
   "metadata": {},
   "outputs": [],
   "source": [
    "#Метод цепочек\n",
    "class ChainRehash:\n",
    "    def __init__(self, data):\n",
    "        self.data = data\n",
    "        self.array = [[]] * len(data)\n",
    "        self.size = len(self.data)\n",
    "\n",
    "    def hash(self, value):\n",
    "        sum = 0\n",
    "        sum = sum + value\n",
    "        return sum % self.size\n",
    "\n",
    "    def rehash(self):\n",
    "        for i in range(self.size):\n",
    "            if self.array[self.hash(self.data[i])] == []:\n",
    "                self.array[self.hash(self.data[i])] = [self.data[i]]\n",
    "            else:\n",
    "                prevValue = self.array[self.hash(self.data[i])]\n",
    "                if type(prevValue) != list:\n",
    "                    self.array[self.hash(self.data[i])] = [prevValue]\n",
    "                self.array[self.hash(self.data[i])].append(self.data[i])\n",
    "        return self.array\n",
    "\n",
    "    def find_value(self, key):\n",
    "        for number, element in enumerate(self.array):\n",
    "            if (type(element) is list):\n",
    "                for number2, element2 in enumerate(self.array[number]):\n",
    "                    if (element2 == key):\n",
    "                        return [number, number2]\n",
    "            else:\n",
    "                if (element == key):\n",
    "                    return [number]\n",
    "\n",
    "    def delete(self, element):\n",
    "        lst = self.find_value(element)\n",
    "        if type(lst) != None:\n",
    "            self.data.remove(element)\n",
    "            self.size -= 1\n",
    "            self.array = [[]] * self.size\n",
    "            self.rehash()\n",
    "\n",
    "    def add(self, element):\n",
    "        self.data.append(element)\n",
    "        self.size += 1\n",
    "        self.array = [[]] * self.size\n",
    "        self.rehash()"
   ]
  },
  {
   "cell_type": "markdown",
   "id": "8fa47374",
   "metadata": {},
   "source": [
    "#### Примеры работы рехэширования"
   ]
  },
  {
   "cell_type": "code",
   "execution_count": 29,
   "id": "ab33c214",
   "metadata": {},
   "outputs": [],
   "source": [
    "matrix = []\n",
    "for i in range(10):\n",
    "    matrix.append(random.randint(-100, 100))\n",
    "searching_value = random.choice(matrix) "
   ]
  },
  {
   "cell_type": "markdown",
   "id": "28d9ed3f",
   "metadata": {},
   "source": [
    "Простое рехэширование"
   ]
  },
  {
   "cell_type": "code",
   "execution_count": 30,
   "id": "858946c0",
   "metadata": {},
   "outputs": [
    {
     "name": "stdout",
     "output_type": "stream",
     "text": [
      "Исходный массив [-91, -9, 0, 4, -69, 58, 61, 82, 18, 76]\n",
      "Рехэширование [0, -9, -69, 61, 4, 82, 18, 76, 58, -91]\n",
      "Удаление элемента [-9, 0, 82, -69, 4, 58, 18, 61, -91]\n",
      "Добавление элемента [0, -9, -69, 61, 4, 82, 18, 21, 58, -91]\n"
     ]
    }
   ],
   "source": [
    "arr = copy.deepcopy(matrix)\n",
    "print(f'Исходный массив {arr}')\n",
    "simple = SimpleRehash(arr)\n",
    "simple.rehash()\n",
    "print(f'Рехэширование {simple.array}')\n",
    "simple.delete(arr[0])\n",
    "print(f'Удаление элемента {simple.array}')\n",
    "simple.add(21)\n",
    "print(f'Добавление элемента {simple.array}')\n"
   ]
  },
  {
   "cell_type": "markdown",
   "id": "3c290814",
   "metadata": {},
   "source": [
    "Рехэширование с помощью псевдослучайных чисел"
   ]
  },
  {
   "cell_type": "code",
   "execution_count": 31,
   "id": "e1388974",
   "metadata": {},
   "outputs": [
    {
     "name": "stdout",
     "output_type": "stream",
     "text": [
      "Исходный массив [-91, -9, 0, 4, -69, 58, 61, 82, 18, 76]\n",
      "Рехэширование [0, -9, 82, 61, 4, 76, -69, 18, 58, -91]\n",
      "Удаление элемента [-9, 82, 58, -69, 4, 18, 0, 61, -91]\n",
      "Добавление элемента [0, -9, 61, 82, 4, 18, 21, -69, 58, -91]\n"
     ]
    }
   ],
   "source": [
    "arr = copy.deepcopy(matrix)\n",
    "print(f'Исходный массив {arr}')\n",
    "simple = RandRehash(arr)\n",
    "simple.rehash()\n",
    "print(f'Рехэширование {simple.array}')\n",
    "simple.delete(arr[0])\n",
    "print(f'Удаление элемента {simple.array}')\n",
    "simple.add(21)\n",
    "print(f'Добавление элемента {simple.array}')\n"
   ]
  },
  {
   "cell_type": "markdown",
   "id": "ad8d5370",
   "metadata": {},
   "source": [
    "Рехэширование методом цепочек"
   ]
  },
  {
   "cell_type": "code",
   "execution_count": 32,
   "id": "bedfff59",
   "metadata": {},
   "outputs": [
    {
     "name": "stdout",
     "output_type": "stream",
     "text": [
      "Исходный массив [-91, -9, 0, 4, -69, 58, 61, 82, 18, 76]\n",
      "Рехэширование [[0], [-9, -69, 61], [82], [], [4], [], [76], [], [58, 18], [-91]]\n",
      "Удаление элемента [[-9, 0, 18], [82], [], [-69], [4, 58, 76], [], [], [61], []]\n",
      "Добавление элемента [[0], [-9, -69, 61, 21], [82], [], [4], [], [76], [], [58, 18], []]\n"
     ]
    }
   ],
   "source": [
    "arr = copy.deepcopy(matrix)\n",
    "print(f'Исходный массив {arr}')\n",
    "simple = ChainRehash(arr)\n",
    "simple.rehash()\n",
    "print(f'Рехэширование {simple.array}')\n",
    "simple.delete(arr[0])\n",
    "print(f'Удаление элемента {simple.array}')\n",
    "simple.add(21)\n",
    "print(f'Добавление элемента {simple.array}')\n"
   ]
  },
  {
   "cell_type": "markdown",
   "id": "catholic-roots",
   "metadata": {},
   "source": [
    "### Задание №3\n",
    "Расставить на стандартной 64-клеточной шахматной доске 8 ферзей так, чтобы ни один из них не находился под боем другого». Подразумевается, что ферзь бьёт все клетки, расположенные по вертикалям, горизонталям и обеим диагоналям\n",
    "Написать программу,  которая находит хотя бы один способ решения задач.\n"
   ]
  },
  {
   "cell_type": "code",
   "execution_count": 33,
   "id": "09de30c9",
   "metadata": {},
   "outputs": [
    {
     "name": "stdout",
     "output_type": "stream",
     "text": [
      "['A1', 'E2', 'H3', 'F4', 'C5', 'G6', 'B7', 'D8']\n",
      "['A1', 'F2', 'H3', 'C4', 'G5', 'D6', 'B7', 'E8']\n",
      "['A1', 'G2', 'D3', 'F4', 'H5', 'B6', 'E7', 'C8']\n",
      "['A1', 'G2', 'E3', 'H4', 'B5', 'D6', 'F7', 'C8']\n",
      "['B1', 'D2', 'F3', 'H4', 'C5', 'A6', 'G7', 'E8']\n",
      "['B1', 'E2', 'G3', 'A4', 'C5', 'H6', 'F7', 'D8']\n",
      "['B1', 'E2', 'G3', 'D4', 'A5', 'H6', 'F7', 'C8']\n",
      "['B1', 'F2', 'A3', 'G4', 'D5', 'H6', 'C7', 'E8']\n",
      "['B1', 'F2', 'H3', 'C4', 'A5', 'D6', 'G7', 'E8']\n",
      "['B1', 'G2', 'C3', 'F4', 'H5', 'E6', 'A7', 'D8']\n",
      "['B1', 'G2', 'E3', 'H4', 'A5', 'D6', 'F7', 'C8']\n",
      "['B1', 'H2', 'F3', 'A4', 'C5', 'E6', 'G7', 'D8']\n",
      "['C1', 'A2', 'G3', 'E4', 'H5', 'B6', 'D7', 'F8']\n",
      "['C1', 'E2', 'B3', 'H4', 'A5', 'G6', 'D7', 'F8']\n",
      "['C1', 'E2', 'B3', 'H4', 'F5', 'D6', 'G7', 'A8']\n",
      "['C1', 'E2', 'G3', 'A4', 'D5', 'B6', 'H7', 'F8']\n",
      "['C1', 'E2', 'H3', 'D4', 'A5', 'G6', 'B7', 'F8']\n",
      "['C1', 'F2', 'B3', 'E4', 'H5', 'A6', 'G7', 'D8']\n",
      "['C1', 'F2', 'B3', 'G4', 'A5', 'D6', 'H7', 'E8']\n",
      "['C1', 'F2', 'B3', 'G4', 'E5', 'A6', 'H7', 'D8']\n",
      "['C1', 'F2', 'D3', 'A4', 'H5', 'E6', 'G7', 'B8']\n",
      "['C1', 'F2', 'D3', 'B4', 'H5', 'E6', 'G7', 'A8']\n",
      "['C1', 'F2', 'H3', 'A4', 'D5', 'G6', 'E7', 'B8']\n",
      "['C1', 'F2', 'H3', 'A4', 'E5', 'G6', 'B7', 'D8']\n",
      "['C1', 'F2', 'H3', 'B4', 'D5', 'A6', 'G7', 'E8']\n",
      "['C1', 'G2', 'B3', 'H4', 'E5', 'A6', 'D7', 'F8']\n",
      "['C1', 'G2', 'B3', 'H4', 'F5', 'D6', 'A7', 'E8']\n",
      "['C1', 'H2', 'D3', 'G4', 'A5', 'F6', 'B7', 'E8']\n",
      "['D1', 'A2', 'E3', 'H4', 'B5', 'G6', 'C7', 'F8']\n",
      "['D1', 'A2', 'E3', 'H4', 'F5', 'C6', 'G7', 'B8']\n",
      "['D1', 'B2', 'E3', 'H4', 'F5', 'A6', 'C7', 'G8']\n",
      "['D1', 'B2', 'G3', 'C4', 'F5', 'H6', 'A7', 'E8']\n",
      "['D1', 'B2', 'G3', 'C4', 'F5', 'H6', 'E7', 'A8']\n",
      "['D1', 'B2', 'G3', 'E4', 'A5', 'H6', 'F7', 'C8']\n",
      "['D1', 'B2', 'H3', 'E4', 'G5', 'A6', 'C7', 'F8']\n",
      "['D1', 'B2', 'H3', 'F4', 'A5', 'C6', 'E7', 'G8']\n",
      "['D1', 'F2', 'A3', 'E4', 'B5', 'H6', 'C7', 'G8']\n",
      "['D1', 'F2', 'H3', 'B4', 'G5', 'A6', 'C7', 'E8']\n",
      "['D1', 'F2', 'H3', 'C4', 'A5', 'G6', 'E7', 'B8']\n",
      "['D1', 'G2', 'A3', 'H4', 'E5', 'B6', 'F7', 'C8']\n",
      "['D1', 'G2', 'C3', 'H4', 'B5', 'E6', 'A7', 'F8']\n",
      "['D1', 'G2', 'E3', 'B4', 'F5', 'A6', 'C7', 'H8']\n",
      "['D1', 'G2', 'E3', 'C4', 'A5', 'F6', 'H7', 'B8']\n",
      "['D1', 'H2', 'A3', 'C4', 'F5', 'B6', 'G7', 'E8']\n",
      "['D1', 'H2', 'A3', 'E4', 'G5', 'B6', 'F7', 'C8']\n",
      "['D1', 'H2', 'E3', 'C4', 'A5', 'G6', 'B7', 'F8']\n",
      "['E1', 'A2', 'D3', 'F4', 'H5', 'B6', 'G7', 'C8']\n",
      "['E1', 'A2', 'H3', 'D4', 'B5', 'G6', 'C7', 'F8']\n",
      "['E1', 'A2', 'H3', 'F4', 'C5', 'G6', 'B7', 'D8']\n",
      "['E1', 'B2', 'D3', 'F4', 'H5', 'C6', 'A7', 'G8']\n",
      "['E1', 'B2', 'D3', 'G4', 'C5', 'H6', 'F7', 'A8']\n",
      "['E1', 'B2', 'F3', 'A4', 'G5', 'D6', 'H7', 'C8']\n",
      "['E1', 'B2', 'H3', 'A4', 'D5', 'G6', 'C7', 'F8']\n",
      "['E1', 'C2', 'A3', 'F4', 'H5', 'B6', 'D7', 'G8']\n",
      "['E1', 'C2', 'A3', 'G4', 'B5', 'H6', 'F7', 'D8']\n",
      "['E1', 'C2', 'H3', 'D4', 'G5', 'A6', 'F7', 'B8']\n",
      "['E1', 'G2', 'A3', 'C4', 'H5', 'F6', 'D7', 'B8']\n",
      "['E1', 'G2', 'A3', 'D4', 'B5', 'H6', 'F7', 'C8']\n",
      "['E1', 'G2', 'B3', 'D4', 'H5', 'A6', 'C7', 'F8']\n",
      "['E1', 'G2', 'B3', 'F4', 'C5', 'A6', 'D7', 'H8']\n",
      "['E1', 'G2', 'B3', 'F4', 'C5', 'A6', 'H7', 'D8']\n",
      "['E1', 'G2', 'D3', 'A4', 'C5', 'H6', 'F7', 'B8']\n",
      "['E1', 'H2', 'D3', 'A4', 'C5', 'F6', 'B7', 'G8']\n",
      "['E1', 'H2', 'D3', 'A4', 'G5', 'B6', 'F7', 'C8']\n",
      "['F1', 'A2', 'E3', 'B4', 'H5', 'C6', 'G7', 'D8']\n",
      "['F1', 'B2', 'G3', 'A4', 'C5', 'E6', 'H7', 'D8']\n",
      "['F1', 'B2', 'G3', 'A4', 'D5', 'H6', 'E7', 'C8']\n",
      "['F1', 'C2', 'A3', 'G4', 'E5', 'H6', 'B7', 'D8']\n",
      "['F1', 'C2', 'A3', 'H4', 'D5', 'B6', 'G7', 'E8']\n",
      "['F1', 'C2', 'A3', 'H4', 'E5', 'B6', 'D7', 'G8']\n",
      "['F1', 'C2', 'E3', 'G4', 'A5', 'D6', 'B7', 'H8']\n",
      "['F1', 'C2', 'E3', 'H4', 'A5', 'D6', 'B7', 'G8']\n",
      "['F1', 'C2', 'G3', 'B4', 'D5', 'H6', 'A7', 'E8']\n",
      "['F1', 'C2', 'G3', 'B4', 'H5', 'E6', 'A7', 'D8']\n",
      "['F1', 'C2', 'G3', 'D4', 'A5', 'H6', 'B7', 'E8']\n",
      "['F1', 'D2', 'A3', 'E4', 'H5', 'B6', 'G7', 'C8']\n",
      "['F1', 'D2', 'B3', 'H4', 'E5', 'G6', 'A7', 'C8']\n",
      "['F1', 'D2', 'G3', 'A4', 'C5', 'E6', 'B7', 'H8']\n",
      "['F1', 'D2', 'G3', 'A4', 'H5', 'B6', 'E7', 'C8']\n",
      "['F1', 'H2', 'B3', 'D4', 'A5', 'G6', 'E7', 'C8']\n",
      "['G1', 'A2', 'C3', 'H4', 'F5', 'D6', 'B7', 'E8']\n",
      "['G1', 'B2', 'D3', 'A4', 'H5', 'E6', 'C7', 'F8']\n",
      "['G1', 'B2', 'F3', 'C4', 'A5', 'D6', 'H7', 'E8']\n",
      "['G1', 'C2', 'A3', 'F4', 'H5', 'E6', 'B7', 'D8']\n",
      "['G1', 'C2', 'H3', 'B4', 'E5', 'A6', 'F7', 'D8']\n",
      "['G1', 'D2', 'B3', 'E4', 'H5', 'A6', 'C7', 'F8']\n",
      "['G1', 'D2', 'B3', 'H4', 'F5', 'A6', 'C7', 'E8']\n",
      "['G1', 'E2', 'C3', 'A4', 'F5', 'H6', 'B7', 'D8']\n",
      "['H1', 'B2', 'D3', 'A4', 'G5', 'E6', 'C7', 'F8']\n",
      "['H1', 'B2', 'E3', 'C4', 'A5', 'G6', 'D7', 'F8']\n",
      "['H1', 'C2', 'A3', 'F4', 'B5', 'E6', 'G7', 'D8']\n",
      "['H1', 'D2', 'A3', 'C4', 'F5', 'B6', 'G7', 'E8']\n"
     ]
    }
   ],
   "source": [
    "board = [[0 for i in range(8)] for j in range(8)]\n",
    "def set_ferz(i, j):\n",
    "    for x in range(8):\n",
    "        board[x][j] += 1\n",
    "        board[i][x] += 1\n",
    "        if 0 <= i + j - x < 8:\n",
    "            board[i + j - x][x] += 1\n",
    "        if 0 <= i - j + x < 8:\n",
    "            board[i - j + x][x] += 1\n",
    "    board[i][j] = -1\n",
    "\n",
    "def delete_ferz(i, j):\n",
    "    for x in range(8):\n",
    "        board[x][j] -= 1\n",
    "        board[i][x] -= 1\n",
    "        if 0 <= i + j - x < 8:\n",
    "            board[i + j - x][x] -= 1\n",
    "        if 0 <= i - j + x < 8:\n",
    "            board[i - j + x][x] -= 1\n",
    "    board[i][j] = 0\n",
    "\n",
    "def print_coord():\n",
    "    alphabet = \"ABCDEFGH\"\n",
    "    coord = []\n",
    "    for i in range(8):\n",
    "        for j in range(8):\n",
    "            if board[i][j] == -1:\n",
    "                coord.append(alphabet[j] + str(i + 1))\n",
    "    print(coord)\n",
    "\n",
    "def solve(i):\n",
    "    for j in range(8):\n",
    "        if board[i][j] == 0:\n",
    "            set_ferz(i, j)\n",
    "            if i == 7:\n",
    "                print_coord()\n",
    "            else:\n",
    "                solve(i + 1)\n",
    "            delete_ferz(i, j)\n",
    "solve(0)"
   ]
  }
 ],
 "metadata": {
  "kernelspec": {
   "display_name": "Python 3 (ipykernel)",
   "language": "python",
   "name": "python3"
  },
  "language_info": {
   "codemirror_mode": {
    "name": "ipython",
    "version": 3
   },
   "file_extension": ".py",
   "mimetype": "text/x-python",
   "name": "python",
   "nbconvert_exporter": "python",
   "pygments_lexer": "ipython3",
   "version": "3.8.3"
  }
 },
 "nbformat": 4,
 "nbformat_minor": 5
}
