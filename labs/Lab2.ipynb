{
 "cells": [
  {
   "cell_type": "markdown",
   "id": "fifteen-sailing",
   "metadata": {},
   "source": [
    "# Лабораторная работа №2\n",
    "## Выполнил студент группы БВТ2002 Мосева Алеся"
   ]
  },
  {
   "cell_type": "markdown",
   "id": "particular-syndicate",
   "metadata": {},
   "source": [
    "### Оглавление\n",
    "1. [Задание 1](#Задание-№1)\n",
    "2. [Задание 2](#Задание-№2)\n",
    "3. [Задание 3](#Задание-№3)"
   ]
  },
  {
   "cell_type": "code",
   "execution_count": 1,
   "id": "51a9df05",
   "metadata": {},
   "outputs": [],
   "source": [
    "import random\n",
    "import time\n",
    "import copy\n"
   ]
  },
  {
   "cell_type": "code",
   "execution_count": 17,
   "id": "98c33405",
   "metadata": {},
   "outputs": [],
   "source": [
    "matrix = []\n",
    "for i in range(100000):\n",
    "    matrix.append(random.randint(-16000, 16000))\n",
    "searching_value = random.choice(matrix) "
   ]
  },
  {
   "cell_type": "markdown",
   "id": "arctic-stocks",
   "metadata": {},
   "source": [
    "### Задание №1\n",
    "Реализовать методы поиска в соответствии с заданием. Организовать генерацию начального набора случайных данных. Для всех вариантов добавить реализацию добавления, поиска и удаления элементов. Оценить время работы каждого алгоритма поиска и сравнить его со временем работы стандартной функции поиска, используемой в выбранном языке программирования."
   ]
  },
  {
   "cell_type": "code",
   "execution_count": 3,
   "id": "caring-truck",
   "metadata": {
    "scrolled": true
   },
   "outputs": [],
   "source": [
    "#Бинарный поиск\n",
    "arr = copy.deepcopy(matrix)\n",
    "def binary_searching (arr, searching_value):\n",
    "    left = 0\n",
    "    right = len(arr) - 1\n",
    "    mid = (left + right) // 2\n",
    "    while arr[mid] != searching_value and left <= right:\n",
    "        if searching_value > arr[mid]:\n",
    "            left = mid + 1\n",
    "        else:\n",
    "            right = mid - 1\n",
    "        mid = (left + right) // 2\n",
    "    if left > right:\n",
    "        return -1\n",
    "    else:\n",
    "        return mid\n",
    "\n",
    "    \n",
    "#print(binary_searching(arr, searching_value))"
   ]
  },
  {
   "cell_type": "code",
   "execution_count": 15,
   "id": "75af3ea8",
   "metadata": {},
   "outputs": [],
   "source": [
    "#Бинарное дерево\n",
    "class Node:\n",
    "    def __init__(self, data):\n",
    "        self.left = None\n",
    "        self.right = None\n",
    "        self.data = data\n",
    "\n",
    "    def insert(self, data):\n",
    "        if self.data:\n",
    "            if data < self.data:\n",
    "                if self.left is None:\n",
    "                    self.left = Node(data)\n",
    "                else:\n",
    "                    self.left.insert(data)\n",
    "            elif data > self.data:\n",
    "                if self.right is None:\n",
    "                    self.right = Node(data)\n",
    "                else:\n",
    "                    self.right.insert(data)\n",
    "        else:\n",
    "            self.data = data\n",
    "\n",
    "    def delete(self, value):\n",
    "        if value < self.data:\n",
    "            if self.left is None:\n",
    "                return str(value) + \" Not Found\"\n",
    "            return self.left.delete(value)\n",
    "        elif value > self.data:\n",
    "            if self.right is None:\n",
    "                return str(value) + \" Not Found\"\n",
    "            return self.right.delete(value)\n",
    "        else:\n",
    "            if self.left is None and self.right is None:\n",
    "                self.data = None\n",
    "            elif self.left is None:\n",
    "                self.data = self.right.left_del(value)\n",
    "            else:\n",
    "                self.data = self.left.right_del(value)\n",
    "\n",
    "    def left_del(self, data):\n",
    "        if self.left is None:\n",
    "            k = self.data\n",
    "            self.data = None\n",
    "            return k\n",
    "        else:\n",
    "            return self.left.left_del(data)\n",
    "\n",
    "    def right_del(self, data):\n",
    "        if self.right is None:\n",
    "            k = self.data\n",
    "            self.data = None\n",
    "            return k\n",
    "        else:\n",
    "            return self.right.right_del(data)\n",
    "\n",
    "    def find(self, value):\n",
    "        if value < self.data:\n",
    "            if self.left is None:\n",
    "                return str(value) + \" Not Found\"\n",
    "            return self.left.find(value)\n",
    "        elif value > self.data:\n",
    "            if self.right is None:\n",
    "                return str(value) + \" Not Found\"\n",
    "            return self.right.find(value)\n",
    "        else:\n",
    "            return(str(self.data) + ' is found')\n",
    "\n",
    "\n"
   ]
  },
  {
   "cell_type": "code",
   "execution_count": 5,
   "id": "abe4b0b4",
   "metadata": {},
   "outputs": [],
   "source": [
    "#Метод Фибоначчи\n",
    "def fib_searching(array, value):\n",
    "    f0, f1, fm = find_fib_number(len(array))\n",
    "    index = -1\n",
    "    while fm > 1:\n",
    "        i = min(f0 + index, len(array)-1)\n",
    "        if (array[i] < value):\n",
    "            fm = f1\n",
    "            f1 = f0\n",
    "            f0 = fm - f1\n",
    "            index = i\n",
    "        elif (array[i] > value):\n",
    "            fm = f0\n",
    "            f1 = f1 - f0\n",
    "            f0 = fm - f1\n",
    "        else:\n",
    "            return i\n",
    "\n",
    "\n",
    "\n",
    "def find_fib_number(lenght):\n",
    "    f_first = 0\n",
    "    f_second = 1\n",
    "    f_third = f_first + f_second\n",
    "    while f_third < lenght:\n",
    "        f_first = f_second\n",
    "        f_second = f_third\n",
    "        f_third = f_first + f_second\n",
    "    return f_first, f_second, f_third\n",
    "\n"
   ]
  },
  {
   "cell_type": "code",
   "execution_count": 26,
   "id": "f3c360a9",
   "metadata": {},
   "outputs": [],
   "source": [
    "#интерполяционный\n",
    "def int_searhing(lys, val):\n",
    "    low = 0\n",
    "    high = (len(lys) - 1)\n",
    "    while low <= high and val >= lys[low] and val <= lys[high]:\n",
    "        index = low + int(((float(high - low) / ( lys[high] - lys[low])) * ( val - lys[low])))\n",
    "        if lys[index] == val:\n",
    "            return index\n",
    "        if lys[index] < val:\n",
    "            low = index + 1\n",
    "        else:\n",
    "            high = index - 1\n",
    "    return -1"
   ]
  },
  {
   "cell_type": "markdown",
   "id": "682387bc",
   "metadata": {},
   "source": [
    "##### Время поиска элементов"
   ]
  },
  {
   "cell_type": "markdown",
   "id": "83739a83",
   "metadata": {},
   "source": [
    "Бинарный поиск"
   ]
  },
  {
   "cell_type": "code",
   "execution_count": 18,
   "id": "5772da44",
   "metadata": {},
   "outputs": [
    {
     "name": "stdout",
     "output_type": "stream",
     "text": [
      "65532\n",
      "Время для бинарного поиска: 0 0.001003265380859375\n"
     ]
    }
   ],
   "source": [
    "arr = copy.deepcopy(matrix)\n",
    "arr.sort()\n",
    "start_time = time.time()\n",
    "print(binary_searching(arr, searching_value))\n",
    "print(f'Время для бинарного поиска: {0}', (time.time() - start_time))"
   ]
  },
  {
   "cell_type": "markdown",
   "id": "52b0fc39",
   "metadata": {},
   "source": [
    "Бинарное дерево"
   ]
  },
  {
   "cell_type": "code",
   "execution_count": 19,
   "id": "018846ac",
   "metadata": {},
   "outputs": [
    {
     "name": "stdout",
     "output_type": "stream",
     "text": [
      "4948 is found\n",
      "Время для поиска по бинарному дереву: 0.0009996891021728516\n"
     ]
    }
   ],
   "source": [
    "arr = copy.deepcopy(matrix)\n",
    "root = Node(arr[0])\n",
    "for i in range(1, len(arr)):\n",
    "    root.insert(arr[i])\n",
    "start_time = time.time()\n",
    "print(root.find(searching_value))\n",
    "print(f'Время для поиска по бинарному дереву:', (time.time() - start_time))"
   ]
  },
  {
   "cell_type": "markdown",
   "id": "45d7be88",
   "metadata": {},
   "source": [
    "Поиск с помощью чисел Фибоначчи"
   ]
  },
  {
   "cell_type": "code",
   "execution_count": 20,
   "id": "737b8f51",
   "metadata": {},
   "outputs": [
    {
     "name": "stdout",
     "output_type": "stream",
     "text": [
      "65531\n",
      "Время для поиска с помощью чисел Фибоначчи: 0 0.0010006427764892578\n"
     ]
    }
   ],
   "source": [
    "arr = copy.deepcopy(matrix)\n",
    "arr.sort()\n",
    "start_time = time.time()\n",
    "print(fib_searching(arr, searching_value))\n",
    "print(f'Время для поиска с помощью чисел Фибоначчи: {0}', (time.time() - start_time))"
   ]
  },
  {
   "cell_type": "markdown",
   "id": "1c494c38",
   "metadata": {},
   "source": [
    "Интерполяционный поиск"
   ]
  },
  {
   "cell_type": "code",
   "execution_count": 29,
   "id": "cb7a4952",
   "metadata": {},
   "outputs": [
    {
     "name": "stdout",
     "output_type": "stream",
     "text": [
      "65532\n",
      "Время для интерполяционного поиска: 0 0.000995635986328125\n"
     ]
    }
   ],
   "source": [
    "arr = copy.deepcopy(matrix)\n",
    "arr.sort()\n",
    "start_time = time.time()\n",
    "print(int_searhing(arr, searching_value))\n",
    "print(f'Время для интерполяционного поиска: {0}', (time.time() - start_time))"
   ]
  },
  {
   "cell_type": "markdown",
   "id": "eb907ccc",
   "metadata": {},
   "source": [
    "Стандартный поиск"
   ]
  },
  {
   "cell_type": "code",
   "execution_count": 30,
   "id": "6f8df70d",
   "metadata": {},
   "outputs": [
    {
     "name": "stdout",
     "output_type": "stream",
     "text": [
      "True\n",
      "Время для стандартного поиска: 0 0.004999637603759766\n"
     ]
    }
   ],
   "source": [
    "arr = copy.deepcopy(matrix)\n",
    "arr.sort()\n",
    "start_time = time.time()\n",
    "print(searching_value in arr)\n",
    "print(f'Время для стандартного поиска: {0}', (time.time() - start_time))"
   ]
  },
  {
   "cell_type": "markdown",
   "id": "maritime-conversation",
   "metadata": {},
   "source": [
    "### Задание №2\n",
    "Написать соответствующие решения для заданных методов."
   ]
  },
  {
   "cell_type": "code",
   "execution_count": null,
   "id": "97f9de37",
   "metadata": {},
   "outputs": [],
   "source": [
    "#Простое рехэширование"
   ]
  },
  {
   "cell_type": "code",
   "execution_count": null,
   "id": "b4b80e3a",
   "metadata": {},
   "outputs": [],
   "source": [
    "#Рехэширование с помощью псевдослучайных чисел\n"
   ]
  },
  {
   "cell_type": "code",
   "execution_count": null,
   "id": "1addc092",
   "metadata": {},
   "outputs": [],
   "source": [
    "#Метод цепочек"
   ]
  },
  {
   "cell_type": "markdown",
   "id": "catholic-roots",
   "metadata": {},
   "source": [
    "### Задание №3\n",
    "Расставить на стандартной 64-клеточной шахматной доске 8 ферзей так, чтобы ни один из них не находился под боем другого». Подразумевается, что ферзь бьёт все клетки, расположенные по вертикалям, горизонталям и обеим диагоналям\n",
    "Написать программу,  которая находит хотя бы один способ решения задач.\n"
   ]
  },
  {
   "cell_type": "code",
   "execution_count": null,
   "id": "09de30c9",
   "metadata": {},
   "outputs": [],
   "source": []
  }
 ],
 "metadata": {
  "kernelspec": {
   "display_name": "Python 3 (ipykernel)",
   "language": "python",
   "name": "python3"
  },
  "language_info": {
   "codemirror_mode": {
    "name": "ipython",
    "version": 3
   },
   "file_extension": ".py",
   "mimetype": "text/x-python",
   "name": "python",
   "nbconvert_exporter": "python",
   "pygments_lexer": "ipython3",
   "version": "3.8.3"
  }
 },
 "nbformat": 4,
 "nbformat_minor": 5
}
