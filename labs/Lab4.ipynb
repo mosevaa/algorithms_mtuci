{
 "cells": [
  {
   "cell_type": "markdown",
   "id": "fifteen-sailing",
   "metadata": {},
   "source": [
    "# Лабораторная работа №4\n",
    "## Выполнил студент группы БВТ2002 Мосева Алеся"
   ]
  },
  {
   "cell_type": "markdown",
   "id": "arctic-stocks",
   "metadata": {},
   "source": [
    "Реализовать следующие структуры данных:\n",
    "  \n",
    "● <b> Стек (stack): </b>  \n",
    "Операции для стека: \n",
    "<i> инициализация, проверка на пустоту, добавление нового элемента в начало, извлечение элемента из начала;  </i>  \n",
    "  \n",
    "● <b> Дек (двусторонняя очередь, deque):  </b>  \n",
    "Операции для дека: \n",
    "<i> инициализация, проверка на пустоту, добавление нового элемента в начало, добавление нового элемента в конец, извлечение элемента из начала, извлечение элемента из конца. </i>  \n",
    "  \n",
    "<i> Разработать программу обработки данных, содержащихся в заранее подготовленном txt-файле, в соответствии с заданиями, применив указанную в задании структуру данных. Результат работы программы вывести на экран и сохранить в отдельном txt-файле. </i>"
   ]
  },
  {
   "cell_type": "markdown",
   "id": "a085b9c4",
   "metadata": {},
   "source": [
    "#### Реализация стека"
   ]
  },
  {
   "cell_type": "code",
   "execution_count": 16,
   "id": "76809a65",
   "metadata": {},
   "outputs": [],
   "source": [
    "class Cell:\n",
    "    def __init__(self, value: int = None, next_value = None):\n",
    "        self.value = value\n",
    "        self.next_value = next_value\n",
    "    \n",
    "\n",
    "def push(cell, new_value):\n",
    "    new_cell = Cell(value = new_value)\n",
    "    new_cell.next_value = cell.next_value\n",
    "    cell.next_value = new_cell\n",
    "    return 'added'\n",
    "\n",
    "def pop(cell):\n",
    "    if(cell.next_value == None):\n",
    "        return -1\n",
    "    \n",
    "    data = cell.next_value.value\n",
    "    cell.next_value = cell.next_value.next_value\n",
    "    return data\n",
    "\n",
    "def is_empty(cell):\n",
    "    if cell.next_value == None:\n",
    "        return True\n",
    "    return False\n",
    "        \n",
    "\n",
    "\n",
    "\n"
   ]
  },
  {
   "cell_type": "markdown",
   "id": "218a57eb",
   "metadata": {},
   "source": [
    "### Реализация дека"
   ]
  },
  {
   "cell_type": "code",
   "execution_count": 4,
   "id": "4ee7c450",
   "metadata": {},
   "outputs": [],
   "source": [
    "class Cell_For_Deque:\n",
    "    def __init__(self, value = None, prev_value = None, next_value = None):\n",
    "        self.value = value\n",
    "        self.prev_value = prev_value\n",
    "        self.next_value = next_value\n",
    "    \n",
    "def push_deque_begin(cell, new_value):\n",
    "    new_cell = Cell_For_Deque(new_value)\n",
    "    new_cell.next_value = cell.next_value\n",
    "    cell.next_value = new_cell\n",
    "    new_cell.prev_value = cell\n",
    "    return 'added'\n",
    "\n",
    "def push_deque_end(cell, new_value):\n",
    "    new_cell = Cell_For_Deque(new_value)\n",
    "    while cell.next_value != None:\n",
    "        cell = cell.next_value\n",
    "    new_cell.next_value = cell.next_value\n",
    "    cell.next_value = new_cell\n",
    "    new_cell.prev_value = cell\n",
    "    return 'added'    \n",
    "\n",
    "def pop_deque_begin(cell):\n",
    "    if(cell.next_value == None):\n",
    "        return -1\n",
    "    data = cell.next_value.value\n",
    "    cell.next_value = cell.next_value.next_value\n",
    "    return data\n",
    "\n",
    "def pop_deque_end(cell):\n",
    "    if(cell.next_value == None):\n",
    "        return -1\n",
    "    while cell.next_value.next_value != None:\n",
    "        cell = cell.next_value\n",
    "    data = cell.next_value.value\n",
    "    cell.next_value = cell.next_value.next_value\n",
    "    return data\n",
    "        \n",
    "def print_deque(cell):\n",
    "    arr = []\n",
    "    if is_empty(cell):\n",
    "        print ([])\n",
    "    else:\n",
    "        while not (cell.next_value.next_value is None):\n",
    "            arr.append(cell.next_value.value)\n",
    "            cell = cell.next_value\n",
    "        arr.append(cell.next_value.value)\n",
    "        print (arr)\n",
    "\n",
    "def take_last(cell):\n",
    "    if (cell.next_value == None):\n",
    "        return None\n",
    "    while cell.next_value.next_value != None:\n",
    "        cell = cell.next_value\n",
    "    return cell.next_value\n",
    "\n",
    "\n",
    "    \n",
    "    \n",
    "        "
   ]
  },
  {
   "cell_type": "markdown",
   "id": "5d7edb08",
   "metadata": {
    "scrolled": true
   },
   "source": [
    "### Задание №1\n",
    "Отсортировать строки файла, содержащие названия книг, в алфавитном порядке с использованием двух деков."
   ]
  },
  {
   "cell_type": "code",
   "execution_count": 14,
   "id": "17702ade",
   "metadata": {},
   "outputs": [
    {
     "ename": "AttributeError",
     "evalue": "'NoneType' object has no attribute 'next_value'",
     "output_type": "error",
     "traceback": [
      "\u001b[1;31m---------------------------------------------------------------------------\u001b[0m",
      "\u001b[1;31mAttributeError\u001b[0m                            Traceback (most recent call last)",
      "\u001b[1;32mc:\\Users\\Moseva\\Desktop\\uni\\algorithms_mtuci\\labs\\Lab4.ipynb Cell 8'\u001b[0m in \u001b[0;36m<cell line: 9>\u001b[1;34m()\u001b[0m\n\u001b[0;32m      <a href='vscode-notebook-cell:/c%3A/Users/Moseva/Desktop/uni/algorithms_mtuci/labs/Lab4.ipynb#ch0000007?line=6'>7</a>\u001b[0m end_deque2 \u001b[39m=\u001b[39m data\n\u001b[0;32m      <a href='vscode-notebook-cell:/c%3A/Users/Moseva/Desktop/uni/algorithms_mtuci/labs/Lab4.ipynb#ch0000007?line=7'>8</a>\u001b[0m data \u001b[39m=\u001b[39m f\u001b[39m.\u001b[39mreadline()\n\u001b[1;32m----> <a href='vscode-notebook-cell:/c%3A/Users/Moseva/Desktop/uni/algorithms_mtuci/labs/Lab4.ipynb#ch0000007?line=8'>9</a>\u001b[0m \u001b[39mif\u001b[39;00m data[\u001b[39m0\u001b[39m] \u001b[39m<\u001b[39m take_last(deque1)\u001b[39m.\u001b[39mvalue[\u001b[39m0\u001b[39m]:\n\u001b[0;32m     <a href='vscode-notebook-cell:/c%3A/Users/Moseva/Desktop/uni/algorithms_mtuci/labs/Lab4.ipynb#ch0000007?line=9'>10</a>\u001b[0m     push_deque_begin(deque1, data)\n\u001b[0;32m     <a href='vscode-notebook-cell:/c%3A/Users/Moseva/Desktop/uni/algorithms_mtuci/labs/Lab4.ipynb#ch0000007?line=10'>11</a>\u001b[0m \u001b[39melse\u001b[39;00m:\n",
      "\u001b[1;32mc:\\Users\\Moseva\\Desktop\\uni\\algorithms_mtuci\\labs\\Lab4.ipynb Cell 6'\u001b[0m in \u001b[0;36mtake_last\u001b[1;34m(cell)\u001b[0m\n\u001b[0;32m     <a href='vscode-notebook-cell:/c%3A/Users/Moseva/Desktop/uni/algorithms_mtuci/labs/Lab4.ipynb#ch0000005?line=46'>47</a>\u001b[0m \u001b[39mdef\u001b[39;00m \u001b[39mtake_last\u001b[39m(cell):\n\u001b[1;32m---> <a href='vscode-notebook-cell:/c%3A/Users/Moseva/Desktop/uni/algorithms_mtuci/labs/Lab4.ipynb#ch0000005?line=47'>48</a>\u001b[0m     \u001b[39mwhile\u001b[39;00m cell\u001b[39m.\u001b[39;49mnext_value\u001b[39m.\u001b[39;49mnext_value \u001b[39m!=\u001b[39m \u001b[39mNone\u001b[39;00m:\n\u001b[0;32m     <a href='vscode-notebook-cell:/c%3A/Users/Moseva/Desktop/uni/algorithms_mtuci/labs/Lab4.ipynb#ch0000005?line=48'>49</a>\u001b[0m         cell \u001b[39m=\u001b[39m cell\u001b[39m.\u001b[39mnext_value\n\u001b[0;32m     <a href='vscode-notebook-cell:/c%3A/Users/Moseva/Desktop/uni/algorithms_mtuci/labs/Lab4.ipynb#ch0000005?line=49'>50</a>\u001b[0m     \u001b[39mreturn\u001b[39;00m cell\n",
      "\u001b[1;31mAttributeError\u001b[0m: 'NoneType' object has no attribute 'next_value'"
     ]
    }
   ],
   "source": [
    "path = 'C:\\\\Users\\\\Moseva\\\\Desktop\\\\uni\\\\algorithms_mtuci\\\\labs\\\\lab4\\\\in1.txt'\n",
    "f = open(path, 'r')\n",
    "deque1 = Cell_For_Deque()\n",
    "deque2 = Cell_For_Deque()\n",
    "data = f.readline()\n",
    "push_deque_begin(deque2, data)\n",
    "end_deque2 = data\n",
    "data = f.readline()\n",
    "if data[0] < take_last(deque1).value[0]:\n",
    "    push_deque_begin(deque1, data)\n",
    "else:\n",
    "    push_deque_begin(deque2, pop_deque_begin(deque1))\n",
    "    push_deque_begin(deque2, data)\n",
    "    end_deque2 = data\n",
    "\n",
    "arr = f.readlines()\n",
    "for i in range(len(arr)):\n",
    "    line = arr[i]\n",
    "    if line[0] < deque1.next_value.value[0]:\n",
    "        push_deque_begin(deque1, line)\n",
    "    elif line[0] > take_last(deque2).value[0]:\n",
    "        push_deque_end(deque2, line)\n",
    "        end_deque2 = line\n",
    "    elif line[0] > take_last(deque1).value[0] and line[0] < take_last(deque2).value[0]:\n",
    "        push_deque_begin(deque2, line)\n",
    "    elif line[0] < take_last(deque1).value[0]:\n",
    "        while (line[0] < take_last(deque1).value[0]):\n",
    "            push_deque_begin(deque2, pop_deque_end(deque1))\n",
    "        push_deque_end(deque1, line)\n",
    "    elif line[0] > deque2.next_value.value[0]:\n",
    "        while line[0] > deque2.next_value.value[0]:\n",
    "            push_deque_end(deque1, pop_deque_begin(deque2))\n",
    "        push_deque_begin(deque2, line)\n",
    "while not is_empty(deque2):\n",
    "    push_deque_end(deque1, pop_deque_begin(deque2))\n",
    "\n",
    "\n",
    "\n",
    "            \n",
    "\n",
    "\n",
    "\n",
    "\n",
    "    \n"
   ]
  },
  {
   "cell_type": "markdown",
   "id": "49fbd2a0",
   "metadata": {},
   "source": [
    "### Задание №2\n",
    "Дек содержит последовательность символов для шифровки сообщений. Дан текстовый файл, содержащий зашифрованное сообщение. Пользуясь деком, расшифровать текст. \n",
    "Известно, что при шифровке каждый символ сообщения заменялся следующим за ним в деке по часовой стрелке через один."
   ]
  },
  {
   "cell_type": "code",
   "execution_count": 7,
   "id": "81cab7a8",
   "metadata": {},
   "outputs": [
    {
     "ename": "KeyboardInterrupt",
     "evalue": "",
     "output_type": "error",
     "traceback": [
      "\u001b[0;31m---------------------------------------------------------------------------\u001b[0m",
      "\u001b[0;31mKeyboardInterrupt\u001b[0m                         Traceback (most recent call last)",
      "\u001b[0;32m/var/folders/zv/thrprk2d021_74h0y0zg7z240000gn/T/ipykernel_11271/3288883957.py\u001b[0m in \u001b[0;36m<module>\u001b[0;34m\u001b[0m\n\u001b[1;32m     37\u001b[0m \u001b[0;32mfor\u001b[0m \u001b[0msymbol\u001b[0m \u001b[0;32min\u001b[0m \u001b[0mtext\u001b[0m\u001b[0;34m[\u001b[0m\u001b[0;36m1\u001b[0m\u001b[0;34m]\u001b[0m\u001b[0;34m:\u001b[0m\u001b[0;34m\u001b[0m\u001b[0;34m\u001b[0m\u001b[0m\n\u001b[1;32m     38\u001b[0m     \u001b[0mpush_deque_end\u001b[0m\u001b[0;34m(\u001b[0m\u001b[0mdeque\u001b[0m\u001b[0;34m,\u001b[0m \u001b[0msymbol\u001b[0m\u001b[0;34m)\u001b[0m\u001b[0;34m\u001b[0m\u001b[0;34m\u001b[0m\u001b[0m\n\u001b[0;32m---> 39\u001b[0;31m \u001b[0mprint\u001b[0m\u001b[0;34m(\u001b[0m\u001b[0mshifr\u001b[0m\u001b[0;34m(\u001b[0m\u001b[0mtext\u001b[0m\u001b[0;34m[\u001b[0m\u001b[0;36m0\u001b[0m\u001b[0;34m]\u001b[0m\u001b[0;34m,\u001b[0m \u001b[0mdeque\u001b[0m\u001b[0;34m)\u001b[0m\u001b[0;34m)\u001b[0m\u001b[0;34m\u001b[0m\u001b[0;34m\u001b[0m\u001b[0m\n\u001b[0m",
      "\u001b[0;32m/var/folders/zv/thrprk2d021_74h0y0zg7z240000gn/T/ipykernel_11271/3288883957.py\u001b[0m in \u001b[0;36mshifr\u001b[0;34m(text, deque)\u001b[0m\n\u001b[1;32m      7\u001b[0m         \u001b[0;32mwhile\u001b[0m \u001b[0mk\u001b[0m \u001b[0;34m!=\u001b[0m \u001b[0mi\u001b[0m\u001b[0;34m:\u001b[0m\u001b[0;34m\u001b[0m\u001b[0;34m\u001b[0m\u001b[0m\n\u001b[1;32m      8\u001b[0m             \u001b[0mk\u001b[0m \u001b[0;34m=\u001b[0m \u001b[0mpop_deque_begin\u001b[0m\u001b[0;34m(\u001b[0m\u001b[0mdeque\u001b[0m\u001b[0;34m)\u001b[0m\u001b[0;34m\u001b[0m\u001b[0;34m\u001b[0m\u001b[0m\n\u001b[0;32m----> 9\u001b[0;31m             \u001b[0mpush_deque_end\u001b[0m\u001b[0;34m(\u001b[0m\u001b[0mdeque\u001b[0m\u001b[0;34m,\u001b[0m \u001b[0mk\u001b[0m\u001b[0;34m)\u001b[0m\u001b[0;34m\u001b[0m\u001b[0;34m\u001b[0m\u001b[0m\n\u001b[0m\u001b[1;32m     10\u001b[0m         \u001b[0mpush_deque_end\u001b[0m\u001b[0;34m(\u001b[0m\u001b[0mdeque\u001b[0m\u001b[0;34m,\u001b[0m \u001b[0mpop_deque_begin\u001b[0m\u001b[0;34m(\u001b[0m\u001b[0mdeque\u001b[0m\u001b[0;34m)\u001b[0m\u001b[0;34m)\u001b[0m\u001b[0;34m\u001b[0m\u001b[0;34m\u001b[0m\u001b[0m\n\u001b[1;32m     11\u001b[0m         \u001b[0mk\u001b[0m \u001b[0;34m=\u001b[0m \u001b[0mpop_deque_begin\u001b[0m\u001b[0;34m(\u001b[0m\u001b[0mdeque\u001b[0m\u001b[0;34m)\u001b[0m\u001b[0;34m\u001b[0m\u001b[0;34m\u001b[0m\u001b[0m\n",
      "\u001b[0;32m/var/folders/zv/thrprk2d021_74h0y0zg7z240000gn/T/ipykernel_11271/1634677896.py\u001b[0m in \u001b[0;36mpush_deque_end\u001b[0;34m(cell, new_value)\u001b[0m\n\u001b[1;32m     13\u001b[0m \u001b[0;34m\u001b[0m\u001b[0m\n\u001b[1;32m     14\u001b[0m \u001b[0;32mdef\u001b[0m \u001b[0mpush_deque_end\u001b[0m\u001b[0;34m(\u001b[0m\u001b[0mcell\u001b[0m\u001b[0;34m,\u001b[0m \u001b[0mnew_value\u001b[0m\u001b[0;34m)\u001b[0m\u001b[0;34m:\u001b[0m\u001b[0;34m\u001b[0m\u001b[0;34m\u001b[0m\u001b[0m\n\u001b[0;32m---> 15\u001b[0;31m     \u001b[0mnew_cell\u001b[0m \u001b[0;34m=\u001b[0m \u001b[0mCell_For_Deque\u001b[0m\u001b[0;34m(\u001b[0m\u001b[0mnew_value\u001b[0m\u001b[0;34m)\u001b[0m\u001b[0;34m\u001b[0m\u001b[0;34m\u001b[0m\u001b[0m\n\u001b[0m\u001b[1;32m     16\u001b[0m     \u001b[0;32mwhile\u001b[0m \u001b[0mcell\u001b[0m\u001b[0;34m.\u001b[0m\u001b[0mnext_value\u001b[0m \u001b[0;34m!=\u001b[0m \u001b[0;32mNone\u001b[0m\u001b[0;34m:\u001b[0m\u001b[0;34m\u001b[0m\u001b[0;34m\u001b[0m\u001b[0m\n\u001b[1;32m     17\u001b[0m         \u001b[0mcell\u001b[0m \u001b[0;34m=\u001b[0m \u001b[0mcell\u001b[0m\u001b[0;34m.\u001b[0m\u001b[0mnext_value\u001b[0m\u001b[0;34m\u001b[0m\u001b[0;34m\u001b[0m\u001b[0m\n",
      "\u001b[0;32m/var/folders/zv/thrprk2d021_74h0y0zg7z240000gn/T/ipykernel_11271/1634677896.py\u001b[0m in \u001b[0;36m__init__\u001b[0;34m(self, value, prev_value, next_value)\u001b[0m\n\u001b[1;32m      1\u001b[0m \u001b[0;32mclass\u001b[0m \u001b[0mCell_For_Deque\u001b[0m\u001b[0;34m:\u001b[0m\u001b[0;34m\u001b[0m\u001b[0;34m\u001b[0m\u001b[0m\n\u001b[1;32m      2\u001b[0m     \u001b[0;32mdef\u001b[0m \u001b[0m__init__\u001b[0m\u001b[0;34m(\u001b[0m\u001b[0mself\u001b[0m\u001b[0;34m,\u001b[0m \u001b[0mvalue\u001b[0m \u001b[0;34m=\u001b[0m \u001b[0;32mNone\u001b[0m\u001b[0;34m,\u001b[0m \u001b[0mprev_value\u001b[0m \u001b[0;34m=\u001b[0m \u001b[0;32mNone\u001b[0m\u001b[0;34m,\u001b[0m \u001b[0mnext_value\u001b[0m \u001b[0;34m=\u001b[0m \u001b[0;32mNone\u001b[0m\u001b[0;34m)\u001b[0m\u001b[0;34m:\u001b[0m\u001b[0;34m\u001b[0m\u001b[0;34m\u001b[0m\u001b[0m\n\u001b[0;32m----> 3\u001b[0;31m         \u001b[0mself\u001b[0m\u001b[0;34m.\u001b[0m\u001b[0mvalue\u001b[0m \u001b[0;34m=\u001b[0m \u001b[0mvalue\u001b[0m\u001b[0;34m\u001b[0m\u001b[0;34m\u001b[0m\u001b[0m\n\u001b[0m\u001b[1;32m      4\u001b[0m         \u001b[0mself\u001b[0m\u001b[0;34m.\u001b[0m\u001b[0mprev_value\u001b[0m \u001b[0;34m=\u001b[0m \u001b[0mprev_value\u001b[0m\u001b[0;34m\u001b[0m\u001b[0;34m\u001b[0m\u001b[0m\n\u001b[1;32m      5\u001b[0m         \u001b[0mself\u001b[0m\u001b[0;34m.\u001b[0m\u001b[0mnext_value\u001b[0m \u001b[0;34m=\u001b[0m \u001b[0mnext_value\u001b[0m\u001b[0;34m\u001b[0m\u001b[0;34m\u001b[0m\u001b[0m\n",
      "\u001b[0;31mKeyboardInterrupt\u001b[0m: "
     ]
    }
   ],
   "source": [
    "def shifr(text, deque):\n",
    "    result = ''\n",
    "    symbols = list(text)\n",
    "    k = pop_deque_begin(deque)\n",
    "    push_deque_end(deque, k)\n",
    "    for i in symbols:\n",
    "        while k != i:\n",
    "            k = pop_deque_begin(deque)\n",
    "            push_deque_end(deque, k)\n",
    "        push_deque_end(deque, pop_deque_begin(deque))\n",
    "        k = pop_deque_begin(deque)\n",
    "        push_deque_end(deque, k)\n",
    "        result += k\n",
    "    return result\n",
    "\n",
    "def rasshifr():\n",
    "    result = ''\n",
    "    symbols = list(text)\n",
    "    k = pop_deque_end(deque)\n",
    "    push_deque_begin(deque, k)\n",
    "    for i in symbols:\n",
    "        while k != i:\n",
    "            k = pop_deque_end(deque)\n",
    "            push_deque_begin(deque, k)\n",
    "        push_deque_begin(deque, pop_deque_end(deque))\n",
    "        k = pop_deque_end(deque)\n",
    "        push_deque_begin(deque, k)\n",
    "        result += k\n",
    "    return result\n",
    "\n",
    "\n",
    "#path = 'C:\\\\Users\\\\Moseva\\\\Desktop\\\\uni\\\\algorithms_mtuci\\\\labs\\\\lab4\\\\in2.txt'\n",
    "path = 'lab4/in2.txt'\n",
    "f = open(path, 'r')\n",
    "text = f.readlines()\n",
    "deque = Cell_For_Deque()\n",
    "for symbol in text[1]:\n",
    "    push_deque_end(deque, symbol)\n",
    "print(shifr(text[0], deque))\n"
   ]
  },
  {
   "cell_type": "markdown",
   "id": "c0894f47",
   "metadata": {},
   "source": [
    "### Задание №3\n",
    "Даны три стержня и n дисков различного размера. Диски можно надевать на стержни, образуя из них башни. Перенести n дисков со стержня А на стержень С, сохранив их первоначальный порядок. При переносе дисков необходимо соблюдать следующие правила:\n",
    "- на каждом шаге со стержня на стержень переносить только один диск;\n",
    "- диск нельзя помещать на диск меньшего размера;\n",
    "- для промежуточного хранения можно использовать стержень В.\n",
    "Реализовать алгоритм, используя три стека вместо стержней А, В, С. Информация о дисках хранится в исходном файле."
   ]
  },
  {
   "cell_type": "code",
   "execution_count": 60,
   "id": "9e91a9d4",
   "metadata": {},
   "outputs": [
    {
     "name": "stdout",
     "output_type": "stream",
     "text": [
      "[1, 2, 3]\n",
      "[]\n",
      "[]\n",
      "\n",
      "[2, 3]\n",
      "[]\n",
      "[1]\n",
      "\n",
      "[3]\n",
      "[1]\n",
      "[2]\n",
      "\n",
      "[]\n",
      "[3]\n",
      "[1, 2]\n",
      "\n",
      "[]\n",
      "[1, 2]\n",
      "[3]\n",
      "\n",
      "[2]\n",
      "[3]\n",
      "[1]\n",
      "\n",
      "[]\n",
      "[1]\n",
      "[2, 3]\n",
      "\n",
      "[]\n",
      "[]\n",
      "[1, 2, 3]\n",
      "\n"
     ]
    }
   ],
   "source": [
    "def solve(start, to, other, n):\n",
    "    if n > 1:\n",
    "        solve(start, other, to, n - 1)\n",
    "    \n",
    "    push(to, pop(start))\n",
    "    print_deque(start)\n",
    "    print_deque(other)\n",
    "    print_deque(to)\n",
    "    print()\n",
    "    if n > 1:\n",
    "        solve(other, to, start, n - 1)\n",
    "\n",
    "start = Cell()\n",
    "to = Cell()\n",
    "other = Cell()\n",
    "for i in range(3, 0, -1):\n",
    "    push(start, i)\n",
    "\n",
    "print_deque(start)\n",
    "print_deque(other)\n",
    "print_deque(to)\n",
    "print()\n",
    "\n",
    "solve(start, to, other, 3)"
   ]
  },
  {
   "cell_type": "markdown",
   "id": "e5b0be17",
   "metadata": {},
   "source": [
    "### Задание №4\n",
    "Дан текстовый файл с программой на алгоритмическом языке. За один просмотр файла проверить баланс круглых скобок в тексте, используя стек."
   ]
  },
  {
   "cell_type": "code",
   "execution_count": 33,
   "id": "5b1df60a",
   "metadata": {},
   "outputs": [
    {
     "name": "stdout",
     "output_type": "stream",
     "text": [
      "NO\n"
     ]
    }
   ],
   "source": [
    "def check1(text):\n",
    "    stack = Cell()\n",
    "    for symbol in text:\n",
    "        if symbol == '(':\n",
    "            push(stack, '(')\n",
    "        elif symbol == ')':\n",
    "            if pop(stack) != '(':\n",
    "                return 'NO'\n",
    "    if not is_empty(stack):\n",
    "        return 'NO'\n",
    "    return 'YES'\n",
    "\n",
    "path = 'C:\\\\Users\\\\Moseva\\\\Desktop\\\\uni\\\\algorithms_mtuci\\\\labs\\\\lab4\\\\in5.txt'\n",
    "f = open(path, 'r')\n",
    "text = f.read()\n",
    "print(check1(text))"
   ]
  },
  {
   "cell_type": "markdown",
   "id": "c44cdd6b",
   "metadata": {},
   "source": [
    "### Задание №5\n",
    "Дан текстовый файл с программой на алгоритмическом языке. За один просмотр файла проверить баланс квадратных скобок в тексте, используя дек."
   ]
  },
  {
   "cell_type": "code",
   "execution_count": 31,
   "id": "36b8f400",
   "metadata": {},
   "outputs": [
    {
     "name": "stdout",
     "output_type": "stream",
     "text": [
      "YES\n"
     ]
    }
   ],
   "source": [
    "def check(text):\n",
    "    deque = Cell_For_Deque()\n",
    "    for symbol in text:\n",
    "        if symbol == '[':\n",
    "            push_deque_begin(deque, '[')\n",
    "        elif symbol == '(':\n",
    "            push_deque_end(deque, '(')\n",
    "        elif symbol == ']':\n",
    "            if pop_deque_begin(deque) != '[':\n",
    "                return 'NO'\n",
    "        elif symbol == ')':\n",
    "            if pop_deque_end(deque) != '(':\n",
    "                return 'NO'\n",
    "    if not is_empty(deque):\n",
    "        return 'NO'\n",
    "    return 'YES'\n",
    "\n",
    "path = 'C:\\\\Users\\\\Moseva\\\\Desktop\\\\uni\\\\algorithms_mtuci\\\\labs\\\\lab4\\\\in5.txt'\n",
    "f = open(path, 'r')\n",
    "text = f.read()\n",
    "print(check(text))\n",
    "\n",
    "\n",
    "\n",
    "\n",
    "\n",
    "\n"
   ]
  },
  {
   "cell_type": "markdown",
   "id": "59d13dc7",
   "metadata": {},
   "source": [
    "### Задание №6\n",
    "Дан файл из символов. Используя стек, за один просмотр файла напечатать сначала все цифры, затем все буквы, и, наконец, все остальные символы, сохраняя исходный порядок в каждой группе символов."
   ]
  },
  {
   "cell_type": "code",
   "execution_count": 77,
   "id": "297e36c2",
   "metadata": {},
   "outputs": [],
   "source": [
    "def t6(text, stack):\n",
    "    c = text[0]\n",
    "    if c.isdigit():\n",
    "        f.write(c)\n",
    "    if text.index(c) + 1 != len(text):\n",
    "        text = text[:text.index(c) + 1] + t6(text[text.index(c) + 1:], stack)\n",
    "    if not c.isalpha():\n",
    "        if not c.isdigit():\n",
    "            push(stack, c)\n",
    "        text = text.replace(c, '', 1)\n",
    "    return text\n",
    "\n",
    "\n",
    "path = 'C:\\\\Users\\\\Moseva\\\\Desktop\\\\uni\\\\algorithms_mtuci\\\\labs\\\\lab4\\\\in6.txt'\n",
    "f = open(path, 'r')\n",
    "text = f.read()\n",
    "stack = Cell()\n",
    "f.close()\n",
    "\n",
    "path = 'C:\\\\Users\\\\Moseva\\\\Desktop\\\\uni\\\\algorithms_mtuci\\\\labs\\\\lab4\\\\out6.txt'\n",
    "f = open(path, 'w')\n",
    "text = t6(text, stack)\n",
    "\n",
    "while not is_empty(stack):\n",
    "    line = pop(stack)\n",
    "    text += line\n",
    "f.write(text)\n",
    "f.close()\n"
   ]
  },
  {
   "cell_type": "markdown",
   "id": "973f68bd",
   "metadata": {},
   "source": [
    "### Задание №7\n",
    "Дан файл из целых чисел. Используя дек, за один просмотр файла напечатать сначала все отрицательные числа, затем все положительные числа, сохраняя исходный порядок в каждой группе."
   ]
  },
  {
   "cell_type": "code",
   "execution_count": 25,
   "id": "c56fad66",
   "metadata": {},
   "outputs": [
    {
     "name": "stdout",
     "output_type": "stream",
     "text": [
      "-5\n",
      "-10\n",
      "-15\n",
      "4\n",
      "6\n",
      "9\n",
      "20\n"
     ]
    }
   ],
   "source": [
    "path = 'C:\\\\Users\\\\Moseva\\\\Desktop\\\\uni\\\\algorithms_mtuci\\\\labs\\\\lab4\\\\in7.txt'\n",
    "f = open(path, 'r')\n",
    "line = f.readline()\n",
    "line = line.split(' ')\n",
    "arr = [int(x) for x in line]\n",
    "deque = Cell_For_Deque()\n",
    "for number in arr:\n",
    "    if number < 0:\n",
    "        print(number, sep=' ')\n",
    "    else:\n",
    "        push_deque_begin(deque, number)\n",
    "while not is_empty(deque):\n",
    "    print(pop_deque_end(deque), sep=' ')\n",
    "\n"
   ]
  },
  {
   "cell_type": "markdown",
   "id": "b9228191",
   "metadata": {},
   "source": [
    "### Задание №8\n",
    "Дан текстовый файл. Используя стек, сформировать новый текстовый файл, содержащий строки исходного файла, записанные в обратном порядке: первая строка становится последней, вторая – предпоследней и т.д."
   ]
  },
  {
   "cell_type": "code",
   "execution_count": 20,
   "id": "981fbdfe",
   "metadata": {},
   "outputs": [],
   "source": [
    "path = 'C:\\\\Users\\\\Moseva\\\\Desktop\\\\uni\\\\algorithms_mtuci\\\\labs\\\\lab4\\\\in1.txt'\n",
    "f = open(path, 'r')\n",
    "lines = f.readlines()\n",
    "stack = Cell()\n",
    "for line in lines:\n",
    "    push(stack, line)\n",
    "lines = []\n",
    "while not is_empty(stack):\n",
    "    lines.append(pop(stack))\n",
    "with open('C:\\\\Users\\\\Moseva\\\\Desktop\\\\uni\\\\algorithms_mtuci\\\\labs\\\\lab4\\\\out8.txt', 'w') as f1:\n",
    "    print(''.join(lines), file=f1)\n"
   ]
  },
  {
   "cell_type": "markdown",
   "id": "rental-jerusalem",
   "metadata": {},
   "source": [
    "### Вывод\n"
   ]
  },
  {
   "cell_type": "markdown",
   "id": "0c2b8899",
   "metadata": {},
   "source": []
  }
 ],
 "metadata": {
  "kernelspec": {
   "display_name": "Python 3 (ipykernel)",
   "language": "python",
   "name": "python3"
  },
  "language_info": {
   "codemirror_mode": {
    "name": "ipython",
    "version": 3
   },
   "file_extension": ".py",
   "mimetype": "text/x-python",
   "name": "python",
   "nbconvert_exporter": "python",
   "pygments_lexer": "ipython3",
   "version": "3.8.6"
  }
 },
 "nbformat": 4,
 "nbformat_minor": 5
}
