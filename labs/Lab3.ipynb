{
 "cells": [
  {
   "cell_type": "markdown",
   "id": "db4b50f0",
   "metadata": {},
   "source": [
    "# Лабораторная работа №3\n",
    "## Выполнил студент группы Мосева Алеся Сергеевна БВТ2002"
   ]
  },
  {
   "cell_type": "markdown",
   "id": "annual-symbol",
   "metadata": {},
   "source": [
    "### Оглавление\n",
    "1. [Задание 1](#Задание-№1)\n",
    "2. [Задание 2](#Задание-№2)\n",
    "4. [Вывод](#Вывод)"
   ]
  },
  {
   "cell_type": "markdown",
   "id": "independent-spirit",
   "metadata": {},
   "source": [
    "> Дополнительные модули, использованные при выполнение лабораторной"
   ]
  },
  {
   "cell_type": "code",
   "execution_count": 2,
   "id": "4839be2b",
   "metadata": {},
   "outputs": [],
   "source": [
    "# Необходим при замере скорости выполнения кода\n",
    "from datetime import datetime as t\n",
    "# Нужен для создания словаря в алг. Бойера-Мура\n",
    "from collections import defaultdict\n",
    "import time"
   ]
  },
  {
   "cell_type": "markdown",
   "id": "inclusive-motorcycle",
   "metadata": {},
   "source": [
    "### Задание №1\n",
    "Реализовать методы поиска подстроки в строке. Добавить возможность ввода строки и подстроки с клавиатуры. Предусмотреть возможность существования пробела. Реализовать возможность выбора опции чувствительности или нечувствительности к регистру. Оценить время работы каждого алгоритма поиска и сравнить его со временем работы стандартной функции поиска, используемой в выбранном языке программирования."
   ]
  },
  {
   "cell_type": "markdown",
   "id": "interracial-communication",
   "metadata": {},
   "source": [
    "#### Алгоритм Кнута-Морриса-Пратта"
   ]
  },
  {
   "cell_type": "code",
   "execution_count": 11,
   "id": "presidential-level",
   "metadata": {},
   "outputs": [
    {
     "name": "stdout",
     "output_type": "stream",
     "text": [
      "13 0.053882598876953125\n"
     ]
    }
   ],
   "source": [
    "def prefix_function(text):\n",
    "    arr = [0] * len(text)\n",
    "    for i in range(1, len(text)):\n",
    "        j = arr[i-1]\n",
    "        while j > 0 and text[i] != text[j]:\n",
    "            j = arr[j-1]\n",
    "        if text[i] == text[j]:\n",
    "            j+=1\n",
    "        arr[i] = j\n",
    "\n",
    "def kmp_search(text, sub_text, start_index=0, reg=True):\n",
    "    if len(sub_text) > len(text):\n",
    "        return 'error'\n",
    "    if start_index != 0:\n",
    "        text = text[start_index:]\n",
    "    if reg==False:\n",
    "        text = text.lower()\n",
    "        sub_text = sub_text.lower()\n",
    "    p = prefix_function(sub_text)\n",
    "    j = 0\n",
    "    for i in range(start_index, len(text)):\n",
    "        while j > 0 and text[i] != sub_text[j]:\n",
    "            j = p[j-1]\n",
    "        if text[i] == sub_text[j]:\n",
    "            j += 1\n",
    "        if j >= len(sub_text):\n",
    "            return i - j + 1\n",
    "    return None\n",
    "\n",
    "text = 'персональные данные'\n",
    "sub_text = 'данные'\n",
    "start_time = time.time()\n",
    "print(kmp_search(text, sub_text), (time.time()-start_time)*1000)"
   ]
  },
  {
   "cell_type": "markdown",
   "id": "downtown-option",
   "metadata": {},
   "source": [
    "#### Упрощенный алгоритм Бойера-Мура"
   ]
  },
  {
   "cell_type": "code",
   "execution_count": 3,
   "id": "respective-reggae",
   "metadata": {},
   "outputs": [
    {
     "name": "stdout",
     "output_type": "stream",
     "text": [
      "13 1.0008811950683594\n"
     ]
    }
   ],
   "source": [
    "t = \"данные\"\n",
    "\n",
    "start_time = time.time()\n",
    "\n",
    "S = set()\n",
    "M = len(t) \n",
    "d = {}\n",
    "\n",
    "for i in range(M-2, -1, -1):\n",
    "    if t[i] not in S:    \n",
    "        d[t[i]] = M-i-1\n",
    "        S.add(t[i])\n",
    "\n",
    "if t[M-1] not in S:\n",
    "    d[t[M-1]] = M\n",
    "\n",
    "d['*'] = M\n",
    "\n",
    "\n",
    "a = \"персональные данные\"\n",
    "N = len(a)\n",
    "\n",
    "if N >= M:\n",
    "    i = M-1 \n",
    "\n",
    "    while(i < N):\n",
    "        k = 0\n",
    "        j = 0\n",
    "        flBreak = False\n",
    "        for j in range(M-1, -1, -1):\n",
    "            if a[i-k] != t[j]:\n",
    "                if j == M-1:\n",
    "                    off = d[a[i]] if d.get(a[i], False) else d['*'] \n",
    "                else:\n",
    "                    off = d[t[j]] \n",
    "\n",
    "                i += off\n",
    "                flBreak = True\n",
    "                break\n",
    "\n",
    "            k += 1\n",
    "\n",
    "        if not flBreak:\n",
    "            print(f\"{i-k+1}\", (time.time()-start_time)*1000)\n",
    "            break\n",
    "    else:\n",
    "        print(\"образ не найден\")\n",
    "else:\n",
    "    print(\"образ не найден\")"
   ]
  },
  {
   "cell_type": "code",
   "execution_count": 13,
   "id": "72006b96",
   "metadata": {},
   "outputs": [
    {
     "name": "stdout",
     "output_type": "stream",
     "text": [
      "13 0.04291534423828125\n"
     ]
    }
   ],
   "source": [
    "text = 'персональные данные'\n",
    "sub_text = 'данные'\n",
    "start_time = time.time()\n",
    "print(text.find(sub_text), (time.time() - start_time)*1000)"
   ]
  },
  {
   "cell_type": "markdown",
   "id": "hybrid-memorial",
   "metadata": {},
   "source": [
    "### Задание №2\n",
    "Написать программу, определяющую, является ли данное\n",
    "расположение «решаемым», то есть можно ли из него за конечное число\n",
    "шагов перейти к правильному. Если это возможно, то необходимо найти хотя\n",
    "бы одно решение - последовательность движений, после которой числа будут\n",
    "расположены в правильном порядке.\n",
    "#### Входные данные: массив чисел, представляющий собой расстановку в\n",
    "Порядке «слева направо, сверху вниз». Число 0 обозначает пустое поле.\n",
    "Например, массив [1, 2, 3, 4, 5, 6, 7, 8, 9, 10, 11, 12, 13, 14, 15, 0] представляет\n",
    "собой «решенную» позицию элементов.\n",
    "#### Выходные данные: если решения нет, то функция должна вернуть\n",
    "Пустой массив []. Если решение есть, то необходимо представить решение —\n",
    "для каждого шага записывается номер передвигаемого на данном шаге\n",
    "элемента. "
   ]
  },
  {
   "cell_type": "code",
   "execution_count": 4,
   "id": "eleven-generic",
   "metadata": {},
   "outputs": [
    {
     "name": "stdout",
     "output_type": "stream",
     "text": [
      "  1  2  3  4\n",
      "  5  6  7  8\n",
      " 13  9 11 12\n",
      " 10 14 15  0 \n",
      "\n",
      "[15, 14, 10, 13, 9, 10, 14, 15]\n"
     ]
    }
   ],
   "source": [
    "from queue import PriorityQueue\n",
    "\n",
    "N = 4\n",
    "\n",
    "def moves(position):\n",
    "    blank = position.index(0)\n",
    "    i, j = divmod(blank, N)\n",
    "    offsets = []\n",
    "    if i > 0: offsets.append(-N)     \n",
    "    if i < N - 1: offsets.append(N) \n",
    "    if j > 0: offsets.append(-1)     \n",
    "    if j < N - 1: offsets.append(1)  \n",
    "    for offset in offsets:\n",
    "        swap = blank + offset\n",
    "        yield tuple(position[swap] if x==blank else position[blank] if x==swap else position[x] for x in range(N*N))\n",
    "\n",
    "def parity(permutation):\n",
    "    count = 0\n",
    "    for i in range(14):\n",
    "        for j in range(i + 1, 15):\n",
    "            if permutation[i] > permutation[j]:\n",
    "                count += 1\n",
    "    return count % 2\n",
    "\n",
    "\n",
    "class Position:\n",
    "    def __init__(self, position, start_distance):\n",
    "        self.position = position\n",
    "        self.start_distance = start_distance\n",
    "\n",
    "    def __lt__(self, other):\n",
    "        return self.start_distance < other.start_distance\n",
    "\n",
    "    def __str__(self):\n",
    "        return '\\n'.join((N*'{:3}').format(*[i%(N*N) for i in self.position[i:]]) for i in range(0, N*N, N))\n",
    "\n",
    "SOLVED = (1, 2, 3, 4, 5, 6, 7, 8, 9, 10, 11, 12, 13, 14, 15, 0)\n",
    "start = (1, 2, 3, 4, 5, 6, 7, 8, 13, 9, 11, 12, 10, 14, 15, 0)\n",
    "\n",
    "path = []\n",
    "if parity(start):\n",
    "    print(path)\n",
    "else:\n",
    "    p = Position(start, 0)\n",
    "\n",
    "    print(p, \"\\n\")\n",
    "\n",
    "    candidates = PriorityQueue()\n",
    "    candidates.put(p)\n",
    "\n",
    "    visited = {p}\n",
    "\n",
    "    came_from = {p.position: None}\n",
    "    \n",
    "    while p.position != SOLVED:\n",
    "        p = candidates.get()\n",
    "        for k in moves(p.position):\n",
    "            if k not in visited:\n",
    "                candidates.put(Position(k, p.start_distance + 1))\n",
    "                came_from[k] = p\n",
    "                visited.add(k)\n",
    "\n",
    "    prev = p\n",
    "    while p.position != start:\n",
    "        p = came_from[p.position]\n",
    "        number = p.position[prev.position.index(0)]\n",
    "        path.append(number)\n",
    "        prev = p\n",
    "    path.reverse()\n",
    "\n",
    "    print(path)"
   ]
  },
  {
   "cell_type": "markdown",
   "id": "arbitrary-amazon",
   "metadata": {},
   "source": [
    "### Вывод"
   ]
  },
  {
   "cell_type": "markdown",
   "id": "71bc58bf",
   "metadata": {},
   "source": [
    "Время для Кнутта-Мориса-Пратта: 0,05\n",
    "Время для Бойера-Мура: 1,0\n",
    "Время для стандартной сортировки: 0,04"
   ]
  }
 ],
 "metadata": {
  "kernelspec": {
   "display_name": "Python 3 (ipykernel)",
   "language": "python",
   "name": "python3"
  },
  "language_info": {
   "codemirror_mode": {
    "name": "ipython",
    "version": 3
   },
   "file_extension": ".py",
   "mimetype": "text/x-python",
   "name": "python",
   "nbconvert_exporter": "python",
   "pygments_lexer": "ipython3",
   "version": "3.8.3"
  }
 },
 "nbformat": 4,
 "nbformat_minor": 5
}
